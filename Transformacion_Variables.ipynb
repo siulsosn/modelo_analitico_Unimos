{
  "nbformat": 4,
  "nbformat_minor": 0,
  "metadata": {
    "colab": {
      "provenance": []
    },
    "kernelspec": {
      "name": "python3",
      "display_name": "Python 3"
    },
    "language_info": {
      "name": "python"
    }
  },
  "cells": [
    {
      "cell_type": "markdown",
      "source": [
        "CODIGO PARA TRANSFORMAR LOS VALORES DE LAS VARIABLES CATEGORICAS A NUMERICAS, SEGÚN MANUAL DE OTORGAMIENTO DE CREDITO"
      ],
      "metadata": {
        "id": "kWvxQqtEt8z2"
      }
    },
    {
      "cell_type": "code",
      "execution_count": 54,
      "metadata": {
        "id": "pa9fdJgJt7mV"
      },
      "outputs": [],
      "source": [
        "#Importamos las librerias\n",
        "import pandas as pd\n",
        "#cargamos el archivo que contiene los datos, en este caso un archivo de excel\n",
        "#cargar los datos del archivo de excel en el dataframe\n",
        "archivo_excel = \"/content/CREDITO JULIO A SEPT.xlsx\"\n",
        "df = pd.read_excel(archivo_excel)"
      ]
    },
    {
      "cell_type": "code",
      "source": [
        "#Revisamos el nombre de las columnas con las que cuenta el dataframe\n",
        "df.columns"
      ],
      "metadata": {
        "colab": {
          "base_uri": "https://localhost:8080/"
        },
        "id": "1FrmGOtyvbij",
        "outputId": "c78f7261-e23b-4409-a0a6-d03114fa0569"
      },
      "execution_count": 55,
      "outputs": [
        {
          "output_type": "execute_result",
          "data": {
            "text/plain": [
              "Index(['N°', 'Id', 'NUMERO IDENTIFICACION', 'IDENTIFICACION',\n",
              "       'NOMBRES APELLIDOS', 'FECHA', 'EDAD', 'FECHA NACIMIENTO',\n",
              "       'NIVEL EDUCATIVO', 'ESTRATO', 'OCUPACION', 'DEPARTAMENTO NACIMIENTO',\n",
              "       'CIUDAD_RESIDENCIA', 'PROFESION', 'ESTADO CIVIL', 'TIPO VIVIENDA',\n",
              "       'TIPO CONTRATO', 'INICIO ACTIVIDAD ECONOMICA', 'ANTIGUEDAD',\n",
              "       'PERSONAS A CARGO', 'NOMBRE_EMPRESA', 'CANTIDAD_PRODUCTOS_CIFN',\n",
              "       'VALOR_INICIAL_TOTAL', 'SALDO_TOTAL_CIFIN', 'CUOTA_TOTAL_CIFIN',\n",
              "       'CANTIDAD_TDC_CIFIN', 'CUPO_TDC_MILES', 'SALDO_TDC_MILES',\n",
              "       'CUOTA_TDC_MILES', 'CLEAR_SCORE_EXPERIENCIA', 'CLEAR_SCORE',\n",
              "       'RESULTADO_PRESICION', 'SALDO_CODEUDOR_CIFIN', 'VALOR_INICIAL_CODEUROR',\n",
              "       'VALOR_CUOTA_CODEUDOR', 'TIPO_CREDITO', 'LINEA_CREDITO_SOLICITUD',\n",
              "       'COMPRA CARTERA', 'SALDO_INICIAL_COMPRADA', 'MONTO COMPRA',\n",
              "       'CUOTA_MES_COMPRADA', 'MONTO_SOLICITADO', 'CUOTA_SOLICITUD',\n",
              "       'DESTINACION_CREDITO', 'PLAZO_SOLICITADO_MESES', 'TIPO_GARANTIA',\n",
              "       'VALOR_GARANTIA', 'COBERTURA_GARANTIA_%', 'VEHICULOS', 'INMUEBLES',\n",
              "       'OTROS ACTIVOS', 'TOTAL ACTIVO', 'OBLIGACIONES FINANCIERAS',\n",
              "       'OTROS PASIVOS', 'TOTAL PASIVO', 'PATRIMONIO', 'INGRESOS ACT ECONOMICA',\n",
              "       'INGRESO_COMISIONES', 'OTROS INGRESOS', 'TOTAL INGRESOS', 'PAGO DEUDAS',\n",
              "       'ARRENDAMIENTOS', 'OTROS GASTOS', 'TOTAL GASTOS', 'DESCUENTOS NOMINA',\n",
              "       'FECHA VINCULACION UNIMOS', 'SALDO_APORTES', 'SALDO_AH_PERMANENTE',\n",
              "       'SALDO_AH_CONTRACTUAL', 'SALDO_CDAT', 'SALDO_CUPO_ROTATIVO',\n",
              "       'SALDO_CREDITO_UNIMOS', 'CANTIDAD_PROD_MORA_CIFN', 'VALOR_MORA',\n",
              "       'SALDO_MORA_CIFIN', 'CUOTA_MORA_CIFIN', 'CANT_MORA_CODEUDOR',\n",
              "       'SALDO_MORA_CODEUDOR', 'CUOTA_MORA_CODEUDOR', 'CRED_DES_DUPL',\n",
              "       'VALOR_APORTES_VENCIDOS', 'ALIVIO_FINANCIERO', 'MORA_VIGENTE',\n",
              "       'SOLICITANTE', 'TIPO RIESGO FINAL', 'NIT',\n",
              "       'Perfil de Riesgo  Score 01 de Agosto ', 'APROBADO-DESEMBOLSADO',\n",
              "       'Valor Desembolsado', 'NEGADO'],\n",
              "      dtype='object')"
            ]
          },
          "metadata": {},
          "execution_count": 55
        }
      ]
    },
    {
      "cell_type": "code",
      "source": [
        "#codigo para no truncar la salida visual, debido a que se tienen muchas columnas\n",
        "pd.set_option('display.max_rows', None)\n",
        "pd.set_option('display.max_columns', None)"
      ],
      "metadata": {
        "id": "egaqL423xhGz"
      },
      "execution_count": 56,
      "outputs": []
    },
    {
      "cell_type": "code",
      "source": [
        "# Identificar valores nulos en cada columna\n",
        "valores_nulos_por_columna = df.isna().sum()\n",
        "\n",
        "# Ordenar el conteo de valores nulos de mayor a menor\n",
        "valores_nulos_ordenados = valores_nulos_por_columna.sort_values(ascending=False)\n",
        "\n",
        "# Mostrar el resultado\n",
        "print(valores_nulos_ordenados)"
      ],
      "metadata": {
        "colab": {
          "base_uri": "https://localhost:8080/"
        },
        "id": "RQqHkAG0EC0T",
        "outputId": "0ad55fc2-aa35-4338-905d-a657f86572ab"
      },
      "execution_count": 57,
      "outputs": [
        {
          "output_type": "stream",
          "name": "stdout",
          "text": [
            "DESTINACION_CREDITO                      17\n",
            "PROFESION                                 7\n",
            "CANTIDAD_TDC_CIFIN                        2\n",
            "INICIO ACTIVIDAD ECONOMICA                1\n",
            "NIT                                       1\n",
            "CANTIDAD_PROD_MORA_CIFN                   1\n",
            "VALOR_INICIAL_CODEUROR                    1\n",
            "INGRESO_COMISIONES                        1\n",
            "NOMBRE_EMPRESA                            1\n",
            "CUOTA_TDC_MILES                           1\n",
            "ANTIGUEDAD                                1\n",
            "N°                                        0\n",
            "SALDO_APORTES                             0\n",
            "FECHA VINCULACION UNIMOS                  0\n",
            "DESCUENTOS NOMINA                         0\n",
            "TOTAL GASTOS                              0\n",
            "PAGO DEUDAS                               0\n",
            "OTROS GASTOS                              0\n",
            "ARRENDAMIENTOS                            0\n",
            "TOTAL INGRESOS                            0\n",
            "OTROS INGRESOS                            0\n",
            "INGRESOS ACT ECONOMICA                    0\n",
            "PATRIMONIO                                0\n",
            "TOTAL PASIVO                              0\n",
            "OTROS PASIVOS                             0\n",
            "OBLIGACIONES FINANCIERAS                  0\n",
            "TOTAL ACTIVO                              0\n",
            "SALDO_AH_PERMANENTE                       0\n",
            "SALDO_CUPO_ROTATIVO                       0\n",
            "SALDO_AH_CONTRACTUAL                      0\n",
            "SALDO_CDAT                                0\n",
            "Valor Desembolsado                        0\n",
            "APROBADO-DESEMBOLSADO                     0\n",
            "Perfil de Riesgo  Score 01 de Agosto      0\n",
            "TIPO RIESGO FINAL                         0\n",
            "SOLICITANTE                               0\n",
            "MORA_VIGENTE                              0\n",
            "ALIVIO_FINANCIERO                         0\n",
            "VALOR_APORTES_VENCIDOS                    0\n",
            "CRED_DES_DUPL                             0\n",
            "CUOTA_MORA_CODEUDOR                       0\n",
            "SALDO_MORA_CODEUDOR                       0\n",
            "CANT_MORA_CODEUDOR                        0\n",
            "CUOTA_MORA_CIFIN                          0\n",
            "SALDO_MORA_CIFIN                          0\n",
            "VALOR_MORA                                0\n",
            "SALDO_CREDITO_UNIMOS                      0\n",
            "INMUEBLES                                 0\n",
            "OTROS ACTIVOS                             0\n",
            "TIPO_GARANTIA                             0\n",
            "VEHICULOS                                 0\n",
            "COBERTURA_GARANTIA_%                      0\n",
            "VALOR_INICIAL_TOTAL                       0\n",
            "CANTIDAD_PRODUCTOS_CIFN                   0\n",
            "PERSONAS A CARGO                          0\n",
            "TIPO CONTRATO                             0\n",
            "TIPO VIVIENDA                             0\n",
            "ESTADO CIVIL                              0\n",
            "CIUDAD_RESIDENCIA                         0\n",
            "DEPARTAMENTO NACIMIENTO                   0\n",
            "OCUPACION                                 0\n",
            "ESTRATO                                   0\n",
            "NIVEL EDUCATIVO                           0\n",
            "FECHA NACIMIENTO                          0\n",
            "EDAD                                      0\n",
            "FECHA                                     0\n",
            "NOMBRES APELLIDOS                         0\n",
            "IDENTIFICACION                            0\n",
            "NUMERO IDENTIFICACION                     0\n",
            "SALDO_TOTAL_CIFIN                         0\n",
            "CUOTA_TOTAL_CIFIN                         0\n",
            "CUPO_TDC_MILES                            0\n",
            "SALDO_INICIAL_COMPRADA                    0\n",
            "VALOR_GARANTIA                            0\n",
            "Id                                        0\n",
            "PLAZO_SOLICITADO_MESES                    0\n",
            "CUOTA_SOLICITUD                           0\n",
            "MONTO_SOLICITADO                          0\n",
            "CUOTA_MES_COMPRADA                        0\n",
            "MONTO COMPRA                              0\n",
            "COMPRA CARTERA                            0\n",
            "SALDO_TDC_MILES                           0\n",
            "LINEA_CREDITO_SOLICITUD                   0\n",
            "TIPO_CREDITO                              0\n",
            "VALOR_CUOTA_CODEUDOR                      0\n",
            "SALDO_CODEUDOR_CIFIN                      0\n",
            "RESULTADO_PRESICION                       0\n",
            "CLEAR_SCORE                               0\n",
            "CLEAR_SCORE_EXPERIENCIA                   0\n",
            "NEGADO                                    0\n",
            "dtype: int64\n"
          ]
        }
      ]
    },
    {
      "cell_type": "markdown",
      "source": [
        "VARIABLES EVALUADAS EN EL MODELO DE OTORGAMIENTO DE CREDITO\n",
        "\n",
        "A partir de aqui se revisan las variables segun manual y luego se van imputando los valores de acuerdo al manual."
      ],
      "metadata": {
        "id": "f9cno-ojwKFh"
      }
    },
    {
      "cell_type": "code",
      "source": [
        "#variable sociodemografica Nivel Educativo\n",
        "df[\"NIVEL EDUCATIVO\"].value_counts()"
      ],
      "metadata": {
        "colab": {
          "base_uri": "https://localhost:8080/"
        },
        "id": "LOJcD3Svvs0H",
        "outputId": "c0e418d4-9c8d-4001-bdea-7e6f303e8ad0"
      },
      "execution_count": 58,
      "outputs": [
        {
          "output_type": "execute_result",
          "data": {
            "text/plain": [
              "Técnico          455\n",
              "Universitario    428\n",
              "Postgrado        225\n",
              "Bachillerato     195\n",
              "Tecnológico       78\n",
              "Primaria          14\n",
              "POstgrado          2\n",
              "Ninguno            1\n",
              "Name: NIVEL EDUCATIVO, dtype: int64"
            ]
          },
          "metadata": {},
          "execution_count": 58
        }
      ]
    },
    {
      "cell_type": "code",
      "source": [
        "# vamos a reemplazar valores en nuestras columnas por el nivel de riesgo segun manual\n",
        "# Define un diccionario de mapeo de reemplazo\n",
        "mapeo_reemplazo = {\n",
        "\"Técnico\": 2,\n",
        "\"Universitario\": 4 ,\n",
        "\"Postgrado\":    1 ,\n",
        "\"Bachillerato\":3,\n",
        "\"Tecnológico\":5,\n",
        "\"Primaria\": 4,\n",
        "\"POstgrado\":1,\n",
        "\"Ninguno\":5\n",
        "}\n",
        "\n",
        "# Utiliza el método replace con el diccionario de mapeo\n",
        "df[\"NIVEL EDUCATIVO\"] = df[\"NIVEL EDUCATIVO\"].replace(mapeo_reemplazo)\n",
        "\n",
        "# Ahora, \"Debito\" se ha reemplazado por \"Ventanilla\""
      ],
      "metadata": {
        "id": "Wi9YVvRxxfwS"
      },
      "execution_count": 59,
      "outputs": []
    },
    {
      "cell_type": "code",
      "source": [
        "#Resultado de la imputacion\n",
        "df[\"NIVEL EDUCATIVO\"].value_counts()"
      ],
      "metadata": {
        "colab": {
          "base_uri": "https://localhost:8080/"
        },
        "id": "5q902Nkky4E0",
        "outputId": "b185c5d7-200a-4fcd-f1e9-ec4ab95579cf"
      },
      "execution_count": 60,
      "outputs": [
        {
          "output_type": "execute_result",
          "data": {
            "text/plain": [
              "2    455\n",
              "4    442\n",
              "1    227\n",
              "3    195\n",
              "5     79\n",
              "Name: NIVEL EDUCATIVO, dtype: int64"
            ]
          },
          "metadata": {},
          "execution_count": 60
        }
      ]
    },
    {
      "cell_type": "code",
      "source": [
        "#variable sociodemografica EDAD\n",
        "df[\"EDAD\"].value_counts()"
      ],
      "metadata": {
        "colab": {
          "base_uri": "https://localhost:8080/"
        },
        "id": "4zd7wXQezbNt",
        "outputId": "3a1f6bb3-2798-4888-88a2-24bacd199db7"
      },
      "execution_count": 61,
      "outputs": [
        {
          "output_type": "execute_result",
          "data": {
            "text/plain": [
              "33    69\n",
              "28    64\n",
              "32    62\n",
              "34    60\n",
              "35    58\n",
              "29    57\n",
              "31    55\n",
              "30    54\n",
              "36    51\n",
              "38    51\n",
              "41    45\n",
              "26    44\n",
              "39    40\n",
              "40    39\n",
              "25    39\n",
              "27    38\n",
              "37    38\n",
              "43    37\n",
              "46    36\n",
              "42    34\n",
              "45    33\n",
              "44    33\n",
              "24    33\n",
              "47    31\n",
              "23    26\n",
              "50    25\n",
              "49    25\n",
              "54    22\n",
              "53    20\n",
              "48    19\n",
              "56    16\n",
              "51    15\n",
              "22    15\n",
              "52    13\n",
              "55    13\n",
              "58    12\n",
              "21    11\n",
              "60     8\n",
              "59     8\n",
              "62     8\n",
              "64     7\n",
              "57     5\n",
              "20     4\n",
              "61     4\n",
              "19     4\n",
              "66     3\n",
              "70     2\n",
              "76     2\n",
              "80     1\n",
              "68     1\n",
              "93     1\n",
              "67     1\n",
              "65     1\n",
              "18     1\n",
              "78     1\n",
              "73     1\n",
              "75     1\n",
              "69     1\n",
              "Name: EDAD, dtype: int64"
            ]
          },
          "metadata": {},
          "execution_count": 61
        }
      ]
    },
    {
      "cell_type": "code",
      "source": [
        "#codigo para reemplazar segun la edad y de acuerdo al rango de edad\n",
        "\n",
        "def imputar_edad(edad):\n",
        "    if 18 <= edad <= 24:\n",
        "        return 5\n",
        "    elif 25 <= edad <= 36:\n",
        "        return 4\n",
        "    elif 37 <= edad <= 48:\n",
        "        return 3\n",
        "    elif 49 <= edad <= 60:\n",
        "        return 2\n",
        "    elif edad >= 61:\n",
        "        return 1\n",
        "    else:\n",
        "        # Retorna el valor original si no cae en ningún rango especificado\n",
        "        return edad\n",
        "\n",
        "# Aplicando la función imputar_edad a la columna EDAD\n",
        "df['EDAD'] = df['EDAD'].apply(imputar_edad)\n"
      ],
      "metadata": {
        "id": "i-qsM-Lc1CyT"
      },
      "execution_count": 62,
      "outputs": []
    },
    {
      "cell_type": "code",
      "source": [
        "#resultado de la imputacion\n",
        "df[\"EDAD\"].value_counts()"
      ],
      "metadata": {
        "colab": {
          "base_uri": "https://localhost:8080/"
        },
        "id": "gNUWGhao17Rb",
        "outputId": "20f299fe-c20c-43b4-ed11-0fa34eff6697"
      },
      "execution_count": 63,
      "outputs": [
        {
          "output_type": "execute_result",
          "data": {
            "text/plain": [
              "4    651\n",
              "3    436\n",
              "2    182\n",
              "5     94\n",
              "1     35\n",
              "Name: EDAD, dtype: int64"
            ]
          },
          "metadata": {},
          "execution_count": 63
        }
      ]
    },
    {
      "cell_type": "code",
      "source": [
        "#variable Tipo de contrato\n",
        "df[\"TIPO CONTRATO\"].value_counts()"
      ],
      "metadata": {
        "colab": {
          "base_uri": "https://localhost:8080/"
        },
        "id": "Ntf1f0uu2k-D",
        "outputId": "1f44e44c-1f9d-4d6b-a8b1-547a58a20ad1"
      },
      "execution_count": 64,
      "outputs": [
        {
          "output_type": "execute_result",
          "data": {
            "text/plain": [
              "INDEFINIDO                 1084\n",
              "FIJO                        166\n",
              "LABOR CONTRATADA             71\n",
              "PRESTACION DE SERVICIOS      33\n",
              "INDEPENDIENTE                31\n",
              "PENSIONADO                   12\n",
              "TEMPORAL                      1\n",
              "Name: TIPO CONTRATO, dtype: int64"
            ]
          },
          "metadata": {},
          "execution_count": 64
        }
      ]
    },
    {
      "cell_type": "code",
      "source": [
        "# vamos a reemplazar valores en nuestras columnas por el nivel de riesgo segun manual\n",
        "# Define un diccionario de mapeo de reemplazo\n",
        "mapeo_reemplazo = {\n",
        "\"INDEFINIDO\":2,\n",
        "\"FIJO\":3,\n",
        "\"LABOR CONTRATADA\":5,\n",
        "\"PRESTACION DE SERVICIOS\":5,\n",
        "\"INDEPENDIENTE\":3,\n",
        "\"PENSIONADO\":1,\n",
        "\"TEMPORAL\":3,\n",
        "\"CONTRATISTA\":4\n",
        "}\n",
        "\n",
        "# Utiliza el método replace con el diccionario de mapeo\n",
        "df[\"TIPO CONTRATO\"] = df[\"TIPO CONTRATO\"].replace(mapeo_reemplazo)\n",
        "\n"
      ],
      "metadata": {
        "id": "Zgg8QaKc2yAH"
      },
      "execution_count": 65,
      "outputs": []
    },
    {
      "cell_type": "code",
      "source": [
        "#revisamos el cambio\n",
        "df[\"TIPO CONTRATO\"].value_counts()"
      ],
      "metadata": {
        "colab": {
          "base_uri": "https://localhost:8080/"
        },
        "id": "Ch30WnKC3lOx",
        "outputId": "02c38d9b-e36c-4e2c-e2de-53673946c9e5"
      },
      "execution_count": 66,
      "outputs": [
        {
          "output_type": "execute_result",
          "data": {
            "text/plain": [
              "2    1084\n",
              "3     198\n",
              "5     104\n",
              "1      12\n",
              "Name: TIPO CONTRATO, dtype: int64"
            ]
          },
          "metadata": {},
          "execution_count": 66
        }
      ]
    },
    {
      "cell_type": "code",
      "source": [
        "#variable tipo de vivienda\n",
        "df[\"TIPO VIVIENDA\"].value_counts()"
      ],
      "metadata": {
        "colab": {
          "base_uri": "https://localhost:8080/"
        },
        "id": "kDJfaIfe4TID",
        "outputId": "24a0697d-dd58-411d-e5d3-600a8310a73e"
      },
      "execution_count": 67,
      "outputs": [
        {
          "output_type": "execute_result",
          "data": {
            "text/plain": [
              "FAMILIAR     632\n",
              "PROPIA       483\n",
              "ARRENDADA    283\n",
              "Name: TIPO VIVIENDA, dtype: int64"
            ]
          },
          "metadata": {},
          "execution_count": 67
        }
      ]
    },
    {
      "cell_type": "code",
      "source": [
        "# vamos a reemplazar valores en nuestras columnas por el nivel de riesgo segun manual\n",
        "# Define un diccionario de mapeo de reemplazo\n",
        "mapeo_reemplazo = {\n",
        "\"FAMILIAR\":5,\n",
        "\"PROPIA\":1,\n",
        "\"ARRENDADA\":4,\n",
        "\n",
        "}\n",
        "\n",
        "# Utiliza el método replace con el diccionario de mapeo\n",
        "df[\"TIPO VIVIENDA\"] = df[\"TIPO VIVIENDA\"].replace(mapeo_reemplazo)"
      ],
      "metadata": {
        "id": "7HX_o2sq30mu"
      },
      "execution_count": 68,
      "outputs": []
    },
    {
      "cell_type": "code",
      "source": [
        "#revisamos el cambio\n",
        "df[\"TIPO VIVIENDA\"].value_counts()"
      ],
      "metadata": {
        "colab": {
          "base_uri": "https://localhost:8080/"
        },
        "id": "VGZq1LAh5DFK",
        "outputId": "ee09ef2b-e457-4db9-9a8b-1f8bdb059f5f"
      },
      "execution_count": 69,
      "outputs": [
        {
          "output_type": "execute_result",
          "data": {
            "text/plain": [
              "5    632\n",
              "1    483\n",
              "4    283\n",
              "Name: TIPO VIVIENDA, dtype: int64"
            ]
          },
          "metadata": {},
          "execution_count": 69
        }
      ]
    },
    {
      "cell_type": "code",
      "source": [
        "#variable personas a cargo\n",
        "df[\"PERSONAS A CARGO\"].value_counts()"
      ],
      "metadata": {
        "colab": {
          "base_uri": "https://localhost:8080/"
        },
        "id": "YmD8jMM6DBun",
        "outputId": "52ab6eb0-b6a4-429a-ce17-fefa42749746"
      },
      "execution_count": 70,
      "outputs": [
        {
          "output_type": "execute_result",
          "data": {
            "text/plain": [
              "0    624\n",
              "1    486\n",
              "2    237\n",
              "3     42\n",
              "4      6\n",
              "5      2\n",
              "6      1\n",
              "Name: PERSONAS A CARGO, dtype: int64"
            ]
          },
          "metadata": {},
          "execution_count": 70
        }
      ]
    },
    {
      "cell_type": "code",
      "source": [
        "#cambiamos los valores de la  variable personas a cargo\n",
        "def imputar_valor(valor):\n",
        "    if valor == 0:\n",
        "        return 1\n",
        "    elif valor in [1, 2]:\n",
        "        return 2\n",
        "    elif valor == 3:\n",
        "        return 3\n",
        "    elif valor >= 4:\n",
        "        return 5\n",
        "\n",
        "# Aplicar la función de imputación a la columna 'personas a cargo'\n",
        "df['PERSONAS A CARGO'] = df['PERSONAS A CARGO'].apply(imputar_valor)\n",
        "\n"
      ],
      "metadata": {
        "id": "6I5mFnBkp6Mb"
      },
      "execution_count": 71,
      "outputs": []
    },
    {
      "cell_type": "code",
      "source": [
        "#revisamos el cambio\n",
        "df[\"PERSONAS A CARGO\"].value_counts()"
      ],
      "metadata": {
        "colab": {
          "base_uri": "https://localhost:8080/"
        },
        "id": "4MNTyZIaqvQ2",
        "outputId": "611bd7e4-71dc-4e13-9054-c8fdb9704636"
      },
      "execution_count": 72,
      "outputs": [
        {
          "output_type": "execute_result",
          "data": {
            "text/plain": [
              "2    723\n",
              "1    624\n",
              "3     42\n",
              "5      9\n",
              "Name: PERSONAS A CARGO, dtype: int64"
            ]
          },
          "metadata": {},
          "execution_count": 72
        }
      ]
    },
    {
      "cell_type": "code",
      "source": [
        "#variable antiguedad laboral\n",
        "df[\"ANTIGUEDAD\"].value_counts()"
      ],
      "metadata": {
        "colab": {
          "base_uri": "https://localhost:8080/"
        },
        "id": "6ekQIpdGvSq0",
        "outputId": "12cf7811-d8b9-4ff1-f704-db48de514896"
      },
      "execution_count": 73,
      "outputs": [
        {
          "output_type": "execute_result",
          "data": {
            "text/plain": [
              "1.0     324\n",
              "2.0     195\n",
              "0.0     119\n",
              "4.0     114\n",
              "5.0      94\n",
              "3.0      75\n",
              "7.0      68\n",
              "6.0      62\n",
              "8.0      52\n",
              "9.0      36\n",
              "10.0     33\n",
              "11.0     30\n",
              "15.0     24\n",
              "13.0     21\n",
              "12.0     21\n",
              "17.0     18\n",
              "18.0     16\n",
              "14.0     16\n",
              "16.0     10\n",
              "20.0      7\n",
              "27.0      7\n",
              "21.0      7\n",
              "24.0      7\n",
              "19.0      6\n",
              "29.0      6\n",
              "26.0      6\n",
              "22.0      6\n",
              "28.0      5\n",
              "23.0      4\n",
              "30.0      3\n",
              "25.0      2\n",
              "31.0      1\n",
              "56.0      1\n",
              "34.0      1\n",
              "Name: ANTIGUEDAD, dtype: int64"
            ]
          },
          "metadata": {},
          "execution_count": 73
        }
      ]
    },
    {
      "cell_type": "code",
      "source": [
        "#cambia la varible antiguedad que hace referencia a la antiguedad laboral\n",
        "import numpy as np\n",
        "\n",
        "def imputar_antiguedad(valor):\n",
        "    if pd.isna(valor):  # Revisa si el valor es NaN (valor nulo)\n",
        "        return 5\n",
        "    elif valor <1:\n",
        "        return 5\n",
        "    elif valor in [1, 2]:\n",
        "        return 3\n",
        "    elif valor in [3, 4]:\n",
        "        return 2\n",
        "    elif valor >= 5:\n",
        "        return 1\n",
        "\n",
        "# Aplicar la función de imputación a la columna 'ANTIGUEDAD'\n",
        "df['ANTIGUEDAD'] = df['ANTIGUEDAD'].apply(imputar_antiguedad)\n"
      ],
      "metadata": {
        "id": "cY3lL_FGIkow"
      },
      "execution_count": 74,
      "outputs": []
    },
    {
      "cell_type": "code",
      "source": [
        "#revisamos el resultado de la imputacion\n",
        "df[\"ANTIGUEDAD\"].value_counts()"
      ],
      "metadata": {
        "colab": {
          "base_uri": "https://localhost:8080/"
        },
        "id": "PNxZRKeLI45y",
        "outputId": "79a1c41f-50d0-403e-b87a-84be1b94ff83"
      },
      "execution_count": 75,
      "outputs": [
        {
          "output_type": "execute_result",
          "data": {
            "text/plain": [
              "1    570\n",
              "3    519\n",
              "2    189\n",
              "5    120\n",
              "Name: ANTIGUEDAD, dtype: int64"
            ]
          },
          "metadata": {},
          "execution_count": 75
        }
      ]
    },
    {
      "cell_type": "code",
      "source": [
        "#calcular y luego imputar la antiguedad en UNIMOS\n",
        "from datetime import datetime\n",
        "\n",
        "# Convertir la columna 'FECHA VINCULACION UNIMOS' a datetime si no lo es\n",
        "df['FECHA VINCULACION UNIMOS'] = pd.to_datetime(df['FECHA VINCULACION UNIMOS'])\n",
        "\n",
        "# Calcular la antigüedad en meses\n",
        "df['ANTIGUEDAD EN UNIMOS'] = ((datetime(2023, 10, 1) - df['FECHA VINCULACION UNIMOS']).dt.days / 30.44).round()\n",
        "\n",
        "def imputar_antiguedad(antiguedad):\n",
        "    if antiguedad < 1:\n",
        "        return 5\n",
        "    elif 1 <= antiguedad < 7:\n",
        "        return 4\n",
        "    elif 7 <= antiguedad < 13:\n",
        "        return 3\n",
        "    elif 13 <= antiguedad < 25:\n",
        "        return 2\n",
        "    elif antiguedad >= 25:\n",
        "        return 1\n",
        "\n",
        "# Aplicar la función de imputación a la columna 'ANTIGUEDAD EN UNIMOS'\n",
        "df['ANTIGUEDAD EN UNIMOS'] = df['ANTIGUEDAD EN UNIMOS'].apply(imputar_antiguedad)\n",
        "\n"
      ],
      "metadata": {
        "id": "yYlqlxWEMaTa"
      },
      "execution_count": 76,
      "outputs": []
    },
    {
      "cell_type": "code",
      "source": [
        "#revisamos el resultado de la imputacion\n",
        "df[\"ANTIGUEDAD EN UNIMOS\"].value_counts()"
      ],
      "metadata": {
        "colab": {
          "base_uri": "https://localhost:8080/"
        },
        "id": "4tB2Dz9sjOG6",
        "outputId": "9e68ddcc-2cfb-42b3-8cb1-20c9a090cd21"
      },
      "execution_count": 77,
      "outputs": [
        {
          "output_type": "execute_result",
          "data": {
            "text/plain": [
              "4    497\n",
              "1    442\n",
              "2    260\n",
              "3    194\n",
              "5      5\n",
              "Name: ANTIGUEDAD EN UNIMOS, dtype: int64"
            ]
          },
          "metadata": {},
          "execution_count": 77
        }
      ]
    },
    {
      "cell_type": "code",
      "source": [
        "#imputamos los valores de la variable RESULTADO_PRECISION\n",
        "#revisamos que valores contiene la variable\n",
        "df[\"RESULTADO_PRESICION\"].value_counts()"
      ],
      "metadata": {
        "colab": {
          "base_uri": "https://localhost:8080/"
        },
        "id": "JKg1kXy8PfJ3",
        "outputId": "4f9e644e-623d-4be1-d649-ffa12f7c6a17"
      },
      "execution_count": 78,
      "outputs": [
        {
          "output_type": "execute_result",
          "data": {
            "text/plain": [
              "ACEPTADO     915\n",
              "NEGADO       460\n",
              "PENDIENTE     22\n",
              "Negado         1\n",
              "Name: RESULTADO_PRESICION, dtype: int64"
            ]
          },
          "metadata": {},
          "execution_count": 78
        }
      ]
    },
    {
      "cell_type": "code",
      "source": [
        "# Define un diccionario de mapeo de reemplazo\n",
        "mapeo_reemplazo = {\n",
        "    \"ACEPTADO\": 1,\n",
        "    \"NEGADO\": 5,\n",
        "    \"PENDIENTE\": 3,\n",
        "}\n",
        "\n",
        "# Convierte todos los valores de la columna a mayúsculas\n",
        "df[\"RESULTADO_PRESICION\"] = df[\"RESULTADO_PRESICION\"].str.upper()\n",
        "\n",
        "# Utiliza el método replace con el diccionario de mapeo\n",
        "df[\"RESULTADO_PRESICION\"] = df[\"RESULTADO_PRESICION\"].replace(mapeo_reemplazo)\n"
      ],
      "metadata": {
        "id": "8zpuDcXAPr4M"
      },
      "execution_count": 79,
      "outputs": []
    },
    {
      "cell_type": "code",
      "source": [
        "#resultado de la imputacion\n",
        "df[\"RESULTADO_PRESICION\"].value_counts()"
      ],
      "metadata": {
        "colab": {
          "base_uri": "https://localhost:8080/"
        },
        "id": "7g6EmWimQA0Y",
        "outputId": "ecd8442e-5a24-40ee-a8d4-5fd4a7a06b0d"
      },
      "execution_count": 80,
      "outputs": [
        {
          "output_type": "execute_result",
          "data": {
            "text/plain": [
              "1    915\n",
              "5    461\n",
              "3     22\n",
              "Name: RESULTADO_PRESICION, dtype: int64"
            ]
          },
          "metadata": {},
          "execution_count": 80
        }
      ]
    },
    {
      "cell_type": "code",
      "source": [
        "#revisamos los valores de la variable tipo de credito\n",
        "df[\"TIPO_CREDITO\"].value_counts()"
      ],
      "metadata": {
        "colab": {
          "base_uri": "https://localhost:8080/"
        },
        "id": "ijIz-kHvSIJg",
        "outputId": "1162222d-4cd4-4b22-dc30-36c009b206e4"
      },
      "execution_count": 81,
      "outputs": [
        {
          "output_type": "execute_result",
          "data": {
            "text/plain": [
              "LIBRANZA        935\n",
              "PAGO DIRECTO    463\n",
              "Name: TIPO_CREDITO, dtype: int64"
            ]
          },
          "metadata": {},
          "execution_count": 81
        }
      ]
    },
    {
      "cell_type": "code",
      "source": [
        "# Define un diccionario de mapeo de reemplazo\n",
        "mapeo_reemplazo = {\n",
        "    \"LIBRANZA\": 3,\n",
        "    \"PAGO DIRECTO\": 2\n",
        "    }\n",
        "\n",
        "# Convierte todos los valores de la columna a mayúsculas\n",
        "df[\"TIPO_CREDITO\"] = df[\"TIPO_CREDITO\"].str.upper()\n",
        "\n",
        "# Utiliza el método replace con el diccionario de mapeo\n",
        "df[\"TIPO_CREDITO\"] = df[\"TIPO_CREDITO\"].replace(mapeo_reemplazo)"
      ],
      "metadata": {
        "id": "QziYyNKaSI6j"
      },
      "execution_count": 82,
      "outputs": []
    },
    {
      "cell_type": "code",
      "source": [
        "#resultado de la imputacion\n",
        "df[\"TIPO_CREDITO\"].value_counts()"
      ],
      "metadata": {
        "colab": {
          "base_uri": "https://localhost:8080/"
        },
        "id": "m589I3KwSjk7",
        "outputId": "09e0dcd9-e19c-4278-fe4b-560319d70475"
      },
      "execution_count": 83,
      "outputs": [
        {
          "output_type": "execute_result",
          "data": {
            "text/plain": [
              "3    935\n",
              "2    463\n",
              "Name: TIPO_CREDITO, dtype: int64"
            ]
          },
          "metadata": {},
          "execution_count": 83
        }
      ]
    },
    {
      "cell_type": "code",
      "source": [
        "#revisamos los valores de la variable mora vigente\n",
        "df[\"MORA_VIGENTE\"].value_counts()"
      ],
      "metadata": {
        "colab": {
          "base_uri": "https://localhost:8080/"
        },
        "id": "ecMHCqVHXZEE",
        "outputId": "b5b30c5f-5ae9-4048-81cb-27f2f38c58d1"
      },
      "execution_count": 84,
      "outputs": [
        {
          "output_type": "execute_result",
          "data": {
            "text/plain": [
              "NO    1083\n",
              "SI     315\n",
              "Name: MORA_VIGENTE, dtype: int64"
            ]
          },
          "metadata": {},
          "execution_count": 84
        }
      ]
    },
    {
      "cell_type": "code",
      "source": [
        "# Define un diccionario de mapeo de reemplazo para la columna mora_vigente\n",
        "mapeo_reemplazo = {\n",
        "    \"SI\": 5,#Se deja 5 como valor para representar riesgo alto\n",
        "    \"NO\": 1 #se deja cero como valor para representar riesgo bajo\n",
        "    }\n",
        "\n",
        "# Convierte todos los valores de la columna a mayúsculas\n",
        "df[\"MORA_VIGENTE\"] = df[\"MORA_VIGENTE\"].str.upper()\n",
        "\n",
        "# Utiliza el método replace con el diccionario de mapeo\n",
        "df[\"MORA_VIGENTE\"] = df[\"MORA_VIGENTE\"].replace(mapeo_reemplazo)"
      ],
      "metadata": {
        "id": "AObIk_SZW5ll"
      },
      "execution_count": 85,
      "outputs": []
    },
    {
      "cell_type": "code",
      "source": [
        "#comprobamos que el cambio haya sido realizado\n",
        "df[\"MORA_VIGENTE\"].value_counts()"
      ],
      "metadata": {
        "colab": {
          "base_uri": "https://localhost:8080/"
        },
        "id": "p-O4Z55aXYoO",
        "outputId": "b56338a9-1d8c-4c11-e848-5fcce36d90c0"
      },
      "execution_count": 86,
      "outputs": [
        {
          "output_type": "execute_result",
          "data": {
            "text/plain": [
              "1    1083\n",
              "5     315\n",
              "Name: MORA_VIGENTE, dtype: int64"
            ]
          },
          "metadata": {},
          "execution_count": 86
        }
      ]
    },
    {
      "cell_type": "code",
      "source": [
        "#PLAZO_SOLICITADO_MESES\n",
        "df[\"PLAZO_SOLICITADO_MESES\"].value_counts()"
      ],
      "metadata": {
        "colab": {
          "base_uri": "https://localhost:8080/"
        },
        "id": "E7dO1aTtmcEu",
        "outputId": "aa57ca93-491c-44d1-8176-c504e6f174fd"
      },
      "execution_count": 87,
      "outputs": [
        {
          "output_type": "execute_result",
          "data": {
            "text/plain": [
              "72     232\n",
              "36     219\n",
              "60     207\n",
              "24     189\n",
              "48     173\n",
              "12     132\n",
              "18      46\n",
              "6       41\n",
              "120     28\n",
              "8       14\n",
              "10      10\n",
              "30       9\n",
              "5        9\n",
              "15       8\n",
              "4        8\n",
              "32       7\n",
              "3        7\n",
              "2        6\n",
              "42       6\n",
              "84       5\n",
              "40       4\n",
              "20       4\n",
              "28       3\n",
              "14       3\n",
              "9        3\n",
              "16       2\n",
              "13       2\n",
              "62       2\n",
              "22       2\n",
              "7        2\n",
              "38       2\n",
              "1        2\n",
              "35       2\n",
              "52       2\n",
              "29       1\n",
              "70       1\n",
              "39       1\n",
              "90       1\n",
              "100      1\n",
              "26       1\n",
              "46       1\n",
              "Name: PLAZO_SOLICITADO_MESES, dtype: int64"
            ]
          },
          "metadata": {},
          "execution_count": 87
        }
      ]
    },
    {
      "cell_type": "code",
      "source": [
        "#Imputamos los valores de la variable plazo solicitado meses\n",
        "\n",
        "def impute_plazo(val):\n",
        "    if 0 <= val <= 24:\n",
        "        return 1\n",
        "    elif 25 <= val <= 36:\n",
        "        return 2\n",
        "    elif 37 <= val <= 48:\n",
        "        return 3\n",
        "    elif 49 <= val <= 60:\n",
        "        return 4\n",
        "    elif val >= 61:\n",
        "        return 5\n",
        "\n",
        "# Aplicando la función de imputación y sobrescribiendo la columna PLAZO_SOLICITADO_MESES\n",
        "df['PLAZO_SOLICITADO_MESES'] = df['PLAZO_SOLICITADO_MESES'].apply(impute_plazo)\n"
      ],
      "metadata": {
        "id": "afTDbuNmmlrD"
      },
      "execution_count": 88,
      "outputs": []
    },
    {
      "cell_type": "code",
      "source": [
        "#validando el resultado de la imputacion\n",
        "df[\"PLAZO_SOLICITADO_MESES\"].value_counts()"
      ],
      "metadata": {
        "colab": {
          "base_uri": "https://localhost:8080/"
        },
        "id": "vasQsbKVoPg8",
        "outputId": "8a8b3fee-145b-417e-8d94-2d7110605e16"
      },
      "execution_count": 89,
      "outputs": [
        {
          "output_type": "execute_result",
          "data": {
            "text/plain": [
              "1    490\n",
              "5    270\n",
              "2    242\n",
              "4    209\n",
              "3    187\n",
              "Name: PLAZO_SOLICITADO_MESES, dtype: int64"
            ]
          },
          "metadata": {},
          "execution_count": 89
        }
      ]
    },
    {
      "cell_type": "code",
      "source": [
        "#SE CALCULA E IMPUTA LA VARIABLE CAPACIDAD DE PAGO\n",
        "\n",
        "def calcular_capacidad_de_pago(row):\n",
        "    # Verificar si TOTAL INGRESOS es cero para evitar división por cero\n",
        "    if row['TOTAL INGRESOS'] == 0:\n",
        "        return 5  # o cualquier otro valor que desees imputar en este caso\n",
        "\n",
        "    resultado = (row['TOTAL INGRESOS'] - (row['CUOTA_TOTAL_CIFIN'] + row['TOTAL GASTOS'] + row['DESCUENTOS NOMINA'])) / row['TOTAL INGRESOS']\n",
        "\n",
        "    # Imputación según los rangos especificados y manejo de valores negativos\n",
        "    if resultado < 0 or 0 <= resultado < 0.10:\n",
        "        return 5\n",
        "    elif 0.10 <= resultado < 0.30:\n",
        "        return 4\n",
        "    elif 0.30 <= resultado < 0.40:\n",
        "        return 3\n",
        "    elif 0.40 <= resultado < 0.50:\n",
        "        return 2\n",
        "    elif resultado >= 0.50:\n",
        "        return 1\n",
        "\n",
        "# Aplicando la función y creando la columna CAPACIDAD DE PAGO\n",
        "df['CAPACIDAD DE PAGO'] = df.apply(calcular_capacidad_de_pago, axis=1)\n"
      ],
      "metadata": {
        "id": "DH3PKKZ5shf7"
      },
      "execution_count": 90,
      "outputs": []
    },
    {
      "cell_type": "code",
      "source": [
        "df[\"CAPACIDAD DE PAGO\"].value_counts()"
      ],
      "metadata": {
        "colab": {
          "base_uri": "https://localhost:8080/"
        },
        "id": "9PKzJUVBvJLG",
        "outputId": "3a75f0d4-3f9a-43ca-f50c-f109c519fc50"
      },
      "execution_count": 91,
      "outputs": [
        {
          "output_type": "execute_result",
          "data": {
            "text/plain": [
              "5    647\n",
              "4    329\n",
              "3    152\n",
              "2    150\n",
              "1    120\n",
              "Name: CAPACIDAD DE PAGO, dtype: int64"
            ]
          },
          "metadata": {},
          "execution_count": 91
        }
      ]
    },
    {
      "cell_type": "code",
      "source": [
        "#CALCULANDO LA CAPACIDAD DE DESCUENTO\n",
        "\n",
        "def calcular_capacidad_de_descuento(row):\n",
        "    # Verificar si TOTAL INGRESOS es cero para evitar división por cero\n",
        "    if row['TOTAL INGRESOS'] == 0:\n",
        "        return 5  # imputar 5 en caso de división por cero\n",
        "\n",
        "    resultado = ((row['TOTAL INGRESOS'] * 0.5) - row['DESCUENTOS NOMINA']) / row['TOTAL INGRESOS']\n",
        "\n",
        "    # Imputación según los rangos especificados y manejo de valores negativos o en el rango de 0% a 9%\n",
        "    if resultado < 0 or 0 <= resultado < 0.10:\n",
        "        return 5\n",
        "    elif 0.10 <= resultado < 0.30:\n",
        "        return 4\n",
        "    elif 0.30 <= resultado < 0.40:\n",
        "        return 3\n",
        "    elif 0.40 <= resultado < 0.50:\n",
        "        return 2\n",
        "    elif resultado >= 0.50:\n",
        "        return 1\n",
        "\n",
        "# Aplicando la función y creando la columna CAPACIDAD DE DESCUENTO\n",
        "df['CAPACIDAD DE DESCUENTO'] = df.apply(calcular_capacidad_de_descuento, axis=1)\n",
        "\n"
      ],
      "metadata": {
        "id": "0YY3YD3o3Y8k"
      },
      "execution_count": 92,
      "outputs": []
    },
    {
      "cell_type": "code",
      "source": [
        "#validando el resultado del calculo e imputacion\n",
        "df[\"CAPACIDAD DE DESCUENTO\"].value_counts()"
      ],
      "metadata": {
        "colab": {
          "base_uri": "https://localhost:8080/"
        },
        "id": "V3jn2O7c3ifq",
        "outputId": "b8f1177a-1010-467d-9e4c-eed9266c0703"
      },
      "execution_count": 93,
      "outputs": [
        {
          "output_type": "execute_result",
          "data": {
            "text/plain": [
              "3    487\n",
              "4    436\n",
              "2    295\n",
              "5    172\n",
              "1      8\n",
              "Name: CAPACIDAD DE DESCUENTO, dtype: int64"
            ]
          },
          "metadata": {},
          "execution_count": 93
        }
      ]
    },
    {
      "cell_type": "code",
      "source": [
        "#calculando la variable Razon Gastos Totales\n",
        "\n",
        "def calcular_razon_gastos_totales(row):\n",
        "    # Verificar si TOTAL INGRESOS es cero para evitar división por cero\n",
        "    if row['TOTAL INGRESOS'] == 0:\n",
        "        return 5  # imputar 5 en caso de división por cero\n",
        "\n",
        "    resultado = (row['CUOTA_TOTAL_CIFIN'] + row['TOTAL GASTOS'] + row['DESCUENTOS NOMINA']) / row['TOTAL INGRESOS']\n",
        "\n",
        "    # Imputación según los rangos especificados\n",
        "    if resultado < 0 or 0 <= resultado < 0.40:\n",
        "        return 1\n",
        "    elif 0.40 <= resultado < 0.70:\n",
        "        return 2\n",
        "    elif 0.70 <= resultado < 0.80:\n",
        "        return 3\n",
        "    elif 0.80 <= resultado < 0.90:\n",
        "        return 4\n",
        "    elif resultado >= 0.90:\n",
        "        return 5\n",
        "\n",
        "# Aplicando la función y creando la columna RAZON GASTOS TOTALES\n",
        "df['RAZON GASTOS TOTALES'] = df.apply(calcular_razon_gastos_totales, axis=1)\n"
      ],
      "metadata": {
        "id": "xel9gTqFb_QB"
      },
      "execution_count": 94,
      "outputs": []
    },
    {
      "cell_type": "code",
      "source": [
        "#se valida el resultado\n",
        "df[\"RAZON GASTOS TOTALES\"].value_counts()"
      ],
      "metadata": {
        "colab": {
          "base_uri": "https://localhost:8080/"
        },
        "id": "Z2Ls2swYe9BO",
        "outputId": "b7ff73b5-e17d-448e-aa71-2a3a9f99ae91"
      },
      "execution_count": 95,
      "outputs": [
        {
          "output_type": "execute_result",
          "data": {
            "text/plain": [
              "5    648\n",
              "2    400\n",
              "4    166\n",
              "3    162\n",
              "1     22\n",
              "Name: RAZON GASTOS TOTALES, dtype: int64"
            ]
          },
          "metadata": {},
          "execution_count": 95
        }
      ]
    },
    {
      "cell_type": "code",
      "source": [
        "#Calculando la columan Razon gastos financieros\n",
        "\n",
        "def calcular_razon_gastos_financieros(row):\n",
        "    # Verificar si TOTAL INGRESOS es cero para evitar división por cero\n",
        "    if row['TOTAL INGRESOS'] == 0:\n",
        "        return 5  # imputar 5 en caso de división por cero\n",
        "\n",
        "    resultado = ((row['CUOTA_TOTAL_CIFIN'] + row['CUOTA_SOLICITUD'] - row['CUOTA_MES_COMPRADA']) / row['TOTAL INGRESOS']) * 100  # Convertir a porcentaje\n",
        "\n",
        "    # Imputación según los rangos especificados\n",
        "    if 0 <= resultado < 21:  # Ajuste aquí\n",
        "        return 1\n",
        "    elif 21 <= resultado < 31:  # Ajuste aquí\n",
        "        return 2\n",
        "    elif 31 <= resultado < 41:  # Ajuste aquí\n",
        "        return 3\n",
        "    elif 41 <= resultado < 51:  # Ajuste aquí\n",
        "        return 4\n",
        "    elif resultado >= 51:  # Ajuste aquí\n",
        "        return 5\n",
        "\n",
        "# Aplicando la función y creando la columna RAZON GASTOS FINANCIEROS\n",
        "df['RAZON GASTOS FINANCIEROS'] = df.apply(calcular_razon_gastos_financieros, axis=1)\n"
      ],
      "metadata": {
        "id": "hb0j3tYDgNy0"
      },
      "execution_count": 96,
      "outputs": []
    },
    {
      "cell_type": "code",
      "source": [
        "#validamos el resultado\n",
        "df[\"RAZON GASTOS FINANCIEROS\"].value_counts()"
      ],
      "metadata": {
        "colab": {
          "base_uri": "https://localhost:8080/"
        },
        "id": "WFQk42x4iQS7",
        "outputId": "34742626-24a3-4b35-e7d6-d25c311878ea"
      },
      "execution_count": 97,
      "outputs": [
        {
          "output_type": "execute_result",
          "data": {
            "text/plain": [
              "5.0    561\n",
              "1.0    248\n",
              "2.0    205\n",
              "3.0    194\n",
              "4.0    188\n",
              "Name: RAZON GASTOS FINANCIEROS, dtype: int64"
            ]
          },
          "metadata": {},
          "execution_count": 97
        }
      ]
    },
    {
      "cell_type": "code",
      "source": [
        "#calcular e imputar la columna Razon Endeudamiento Total\n",
        "\n",
        "def calcular_razon_endeudamiento_total(row):\n",
        "    # Verificar si TOTAL ACTIVO es cero para evitar división por cero\n",
        "    if row['TOTAL ACTIVO'] == 0:\n",
        "        return 5  # imputar 5 en caso de división por cero\n",
        "\n",
        "    resultado = ((row['SALDO_TOTAL_CIFIN'] + row['MONTO_SOLICITADO']) / row['TOTAL ACTIVO']) * 100  # Convertir a porcentaje\n",
        "\n",
        "    # Imputación según los rangos especificados\n",
        "    if 0 <= resultado < 71:  # Ajuste aquí\n",
        "        return 1\n",
        "    elif 71 <= resultado < 81:  # Ajuste aquí\n",
        "        return 2\n",
        "    elif 81 <= resultado < 91:  # Ajuste aquí\n",
        "        return 3\n",
        "    elif 91 <= resultado < 101:  # Ajuste aquí\n",
        "        return 4\n",
        "    elif resultado >= 101:  # Ajuste aquí\n",
        "        return 5\n",
        "\n",
        "# Aplicando la función y creando la columna RAZON ENDEUDAMIENTO TOTAL\n",
        "df['RAZON ENDEUDAMIENTO TOTAL'] = df.apply(calcular_razon_endeudamiento_total, axis=1)\n",
        "\n"
      ],
      "metadata": {
        "id": "Afs05PGFyUkE"
      },
      "execution_count": 98,
      "outputs": []
    },
    {
      "cell_type": "code",
      "source": [
        "#revisar el resultado\n",
        "df[\"RAZON ENDEUDAMIENTO TOTAL\"].value_counts()"
      ],
      "metadata": {
        "colab": {
          "base_uri": "https://localhost:8080/"
        },
        "id": "GTUbfvMjysSB",
        "outputId": "da739be3-8f4a-42a5-923b-0d9e816f38c5"
      },
      "execution_count": 99,
      "outputs": [
        {
          "output_type": "execute_result",
          "data": {
            "text/plain": [
              "5    950\n",
              "1    365\n",
              "2     38\n",
              "3     25\n",
              "4     20\n",
              "Name: RAZON ENDEUDAMIENTO TOTAL, dtype: int64"
            ]
          },
          "metadata": {},
          "execution_count": 99
        }
      ]
    },
    {
      "cell_type": "markdown",
      "source": [
        "ELIMINACIÓN DE COLUMNAS y REGISTROS NO REPRESENTANTES PARA EL MODELO"
      ],
      "metadata": {
        "id": "guuIhuKAUgrT"
      }
    },
    {
      "cell_type": "code",
      "source": [
        "#Eliminar los registros con condicion cero\n",
        "\n",
        "# Asumiendo que df es tu DataFrame\n",
        "valores_permitidos = [\"APROBADO\", \"NEGADO\"]\n",
        "df_filtrado = df[df['APROBADO-DESEMBOLSADO'].isin(valores_permitidos)]\n",
        "\n",
        "# Si deseas modificar el DataFrame original en lugar de crear uno nuevo, puedes hacer lo siguiente:\n",
        "df = df[df['APROBADO-DESEMBOLSADO'].isin(valores_permitidos)]\n"
      ],
      "metadata": {
        "id": "OQDeQumtmswb"
      },
      "execution_count": 100,
      "outputs": []
    },
    {
      "cell_type": "code",
      "source": [
        "df[\"APROBADO-DESEMBOLSADO\"].value_counts()"
      ],
      "metadata": {
        "colab": {
          "base_uri": "https://localhost:8080/"
        },
        "id": "ZDbSocTMk5gC",
        "outputId": "5632c348-b8f5-4d89-c048-f79abb5ce073"
      },
      "execution_count": 101,
      "outputs": [
        {
          "output_type": "execute_result",
          "data": {
            "text/plain": [
              "NEGADO      567\n",
              "APROBADO    488\n",
              "Name: APROBADO-DESEMBOLSADO, dtype: int64"
            ]
          },
          "metadata": {},
          "execution_count": 101
        }
      ]
    },
    {
      "cell_type": "code",
      "source": [
        "# Define un diccionario de mapeo de reemplazo para la columna APROBADO _ NEGADO\n",
        "mapeo_reemplazo = {\n",
        "    \"APROBADO\": 1,#Se deja 1 como valor para representar aprobacion\n",
        "    \"NEGADO\": 0 #se deja cero como valor para representar negacion\n",
        "    }\n",
        "\n",
        "# Convierte todos los valores de la columna a mayúsculas\n",
        "df[\"APROBADO-DESEMBOLSADO\"] = df[\"APROBADO-DESEMBOLSADO\"].str.upper()\n",
        "\n",
        "# Utiliza el método replace con el diccionario de mapeo\n",
        "df[\"APROBADO-DESEMBOLSADO\"] = df[\"APROBADO-DESEMBOLSADO\"].replace(mapeo_reemplazo)"
      ],
      "metadata": {
        "id": "dILf0wA-kqLP"
      },
      "execution_count": 102,
      "outputs": []
    },
    {
      "cell_type": "code",
      "source": [
        "#validamos el resultado de la imputacion de los datos\n",
        "df[\"APROBADO-DESEMBOLSADO\"].value_counts()"
      ],
      "metadata": {
        "colab": {
          "base_uri": "https://localhost:8080/"
        },
        "id": "94Pu7osak5Ap",
        "outputId": "21fc7ba2-8466-4048-d218-906285fdfc38"
      },
      "execution_count": 103,
      "outputs": [
        {
          "output_type": "execute_result",
          "data": {
            "text/plain": [
              "0    567\n",
              "1    488\n",
              "Name: APROBADO-DESEMBOLSADO, dtype: int64"
            ]
          },
          "metadata": {},
          "execution_count": 103
        }
      ]
    },
    {
      "cell_type": "code",
      "source": [
        "#Codigo para quitar las columnas que no van a hacer parte del archivo con las columnas del modelo\n",
        "#se crea una lista con los nombres de las columnas a eliminar\n",
        "\n",
        "columnas_a_eliminar = ['N°', 'NUMERO IDENTIFICACION', 'IDENTIFICACION',\n",
        "       'NOMBRES APELLIDOS', 'FECHA', 'FECHA NACIMIENTO',\n",
        "       'DEPARTAMENTO NACIMIENTO','CIUDAD_RESIDENCIA', 'PROFESION',\n",
        "       'INICIO ACTIVIDAD ECONOMICA', 'NOMBRE_EMPRESA', 'CANTIDAD_PRODUCTOS_CIFN',\n",
        "       'VALOR_INICIAL_TOTAL', 'CANTIDAD_TDC_CIFIN', 'CUPO_TDC_MILES', 'SALDO_TDC_MILES',\n",
        "       'CUOTA_TDC_MILES', 'CLEAR_SCORE_EXPERIENCIA', 'SALDO_CODEUDOR_CIFIN', 'VALOR_INICIAL_CODEUROR',\n",
        "       'VALOR_CUOTA_CODEUDOR', 'LINEA_CREDITO_SOLICITUD',\n",
        "       'COMPRA CARTERA', 'SALDO_INICIAL_COMPRADA', 'MONTO COMPRA',\n",
        "       'DESTINACION_CREDITO', 'TIPO_GARANTIA',\n",
        "       'VALOR_GARANTIA', 'COBERTURA_GARANTIA_%','OBLIGACIONES FINANCIERAS',\n",
        "       'OTROS PASIVOS', 'TOTAL PASIVO', 'PATRIMONIO','INGRESOS ACT ECONOMICA',\n",
        "       'INGRESO_COMISIONES', 'OTROS INGRESOS', 'PAGO DEUDAS',\n",
        "       'ARRENDAMIENTOS', 'OTROS GASTOS',\n",
        "       'FECHA VINCULACION UNIMOS', 'SALDO_APORTES', 'SALDO_AH_PERMANENTE',\n",
        "       'SALDO_AH_CONTRACTUAL', 'SALDO_CDAT', 'SALDO_CUPO_ROTATIVO',\n",
        "       'SALDO_CREDITO_UNIMOS', 'CANTIDAD_PROD_MORA_CIFN', 'VALOR_MORA',\n",
        "       'SALDO_MORA_CIFIN', 'CUOTA_MORA_CIFIN', 'CANT_MORA_CODEUDOR',\n",
        "       'SALDO_MORA_CODEUDOR', 'CUOTA_MORA_CODEUDOR', 'CRED_DES_DUPL',\n",
        "       'VALOR_APORTES_VENCIDOS', 'ALIVIO_FINANCIERO',\n",
        "       'NIT','NEGADO','SOLICITANTE','OCUPACION','ESTADO CIVIL',\n",
        "      'ESTRATO','VEHICULOS','INMUEBLES','OTROS ACTIVOS',\n",
        "       'TOTAL GASTOS', 'DESCUENTOS NOMINA','TOTAL INGRESOS',\n",
        "       'CUOTA_TOTAL_CIFIN','CUOTA_MES_COMPRADA','CUOTA_SOLICITUD','TOTAL ACTIVO',\n",
        "                       'MONTO_SOLICITADO','SALDO_TOTAL_CIFIN']\n",
        "\n",
        "\n",
        "# Eliminando las columnas especificadas directamente del DataFrame original\n",
        "df.drop(columnas_a_eliminar, axis=1, inplace=True)\n",
        "\n"
      ],
      "metadata": {
        "id": "og9f_s50Uf6C"
      },
      "execution_count": 104,
      "outputs": []
    },
    {
      "cell_type": "code",
      "source": [
        "#revisamos como quedo el dataframe\n",
        "df.head(1)"
      ],
      "metadata": {
        "colab": {
          "base_uri": "https://localhost:8080/",
          "height": 205
        },
        "id": "wXxcMVl--krg",
        "outputId": "80d70ccf-8868-4e26-a7f6-ec625972cf9a"
      },
      "execution_count": 105,
      "outputs": [
        {
          "output_type": "execute_result",
          "data": {
            "text/plain": [
              "     Id  EDAD  NIVEL EDUCATIVO  TIPO VIVIENDA  TIPO CONTRATO  ANTIGUEDAD  \\\n",
              "0  8028     4                2              5              2           5   \n",
              "\n",
              "   PERSONAS A CARGO  CLEAR_SCORE  RESULTADO_PRESICION  TIPO_CREDITO  \\\n",
              "0                 1          831                    1             2   \n",
              "\n",
              "   PLAZO_SOLICITADO_MESES  MORA_VIGENTE TIPO RIESGO FINAL  \\\n",
              "0                       1             1             medio   \n",
              "\n",
              "  Perfil de Riesgo  Score 01 de Agosto   APROBADO-DESEMBOLSADO  \\\n",
              "0                            Medio Bajo                      1   \n",
              "\n",
              "   Valor Desembolsado  ANTIGUEDAD EN UNIMOS  CAPACIDAD DE PAGO  \\\n",
              "0             4800000                     3                  5   \n",
              "\n",
              "   CAPACIDAD DE DESCUENTO  RAZON GASTOS TOTALES  RAZON GASTOS FINANCIEROS  \\\n",
              "0                       5                     5                       5.0   \n",
              "\n",
              "   RAZON ENDEUDAMIENTO TOTAL  \n",
              "0                          5  "
            ],
            "text/html": [
              "\n",
              "  <div id=\"df-b29f17d8-4d9d-4dbd-9125-d49e7159631f\" class=\"colab-df-container\">\n",
              "    <div>\n",
              "<style scoped>\n",
              "    .dataframe tbody tr th:only-of-type {\n",
              "        vertical-align: middle;\n",
              "    }\n",
              "\n",
              "    .dataframe tbody tr th {\n",
              "        vertical-align: top;\n",
              "    }\n",
              "\n",
              "    .dataframe thead th {\n",
              "        text-align: right;\n",
              "    }\n",
              "</style>\n",
              "<table border=\"1\" class=\"dataframe\">\n",
              "  <thead>\n",
              "    <tr style=\"text-align: right;\">\n",
              "      <th></th>\n",
              "      <th>Id</th>\n",
              "      <th>EDAD</th>\n",
              "      <th>NIVEL EDUCATIVO</th>\n",
              "      <th>TIPO VIVIENDA</th>\n",
              "      <th>TIPO CONTRATO</th>\n",
              "      <th>ANTIGUEDAD</th>\n",
              "      <th>PERSONAS A CARGO</th>\n",
              "      <th>CLEAR_SCORE</th>\n",
              "      <th>RESULTADO_PRESICION</th>\n",
              "      <th>TIPO_CREDITO</th>\n",
              "      <th>PLAZO_SOLICITADO_MESES</th>\n",
              "      <th>MORA_VIGENTE</th>\n",
              "      <th>TIPO RIESGO FINAL</th>\n",
              "      <th>Perfil de Riesgo  Score 01 de Agosto</th>\n",
              "      <th>APROBADO-DESEMBOLSADO</th>\n",
              "      <th>Valor Desembolsado</th>\n",
              "      <th>ANTIGUEDAD EN UNIMOS</th>\n",
              "      <th>CAPACIDAD DE PAGO</th>\n",
              "      <th>CAPACIDAD DE DESCUENTO</th>\n",
              "      <th>RAZON GASTOS TOTALES</th>\n",
              "      <th>RAZON GASTOS FINANCIEROS</th>\n",
              "      <th>RAZON ENDEUDAMIENTO TOTAL</th>\n",
              "    </tr>\n",
              "  </thead>\n",
              "  <tbody>\n",
              "    <tr>\n",
              "      <th>0</th>\n",
              "      <td>8028</td>\n",
              "      <td>4</td>\n",
              "      <td>2</td>\n",
              "      <td>5</td>\n",
              "      <td>2</td>\n",
              "      <td>5</td>\n",
              "      <td>1</td>\n",
              "      <td>831</td>\n",
              "      <td>1</td>\n",
              "      <td>2</td>\n",
              "      <td>1</td>\n",
              "      <td>1</td>\n",
              "      <td>medio</td>\n",
              "      <td>Medio Bajo</td>\n",
              "      <td>1</td>\n",
              "      <td>4800000</td>\n",
              "      <td>3</td>\n",
              "      <td>5</td>\n",
              "      <td>5</td>\n",
              "      <td>5</td>\n",
              "      <td>5.0</td>\n",
              "      <td>5</td>\n",
              "    </tr>\n",
              "  </tbody>\n",
              "</table>\n",
              "</div>\n",
              "    <div class=\"colab-df-buttons\">\n",
              "\n",
              "  <div class=\"colab-df-container\">\n",
              "    <button class=\"colab-df-convert\" onclick=\"convertToInteractive('df-b29f17d8-4d9d-4dbd-9125-d49e7159631f')\"\n",
              "            title=\"Convert this dataframe to an interactive table.\"\n",
              "            style=\"display:none;\">\n",
              "\n",
              "  <svg xmlns=\"http://www.w3.org/2000/svg\" height=\"24px\" viewBox=\"0 -960 960 960\">\n",
              "    <path d=\"M120-120v-720h720v720H120Zm60-500h600v-160H180v160Zm220 220h160v-160H400v160Zm0 220h160v-160H400v160ZM180-400h160v-160H180v160Zm440 0h160v-160H620v160ZM180-180h160v-160H180v160Zm440 0h160v-160H620v160Z\"/>\n",
              "  </svg>\n",
              "    </button>\n",
              "\n",
              "  <style>\n",
              "    .colab-df-container {\n",
              "      display:flex;\n",
              "      gap: 12px;\n",
              "    }\n",
              "\n",
              "    .colab-df-convert {\n",
              "      background-color: #E8F0FE;\n",
              "      border: none;\n",
              "      border-radius: 50%;\n",
              "      cursor: pointer;\n",
              "      display: none;\n",
              "      fill: #1967D2;\n",
              "      height: 32px;\n",
              "      padding: 0 0 0 0;\n",
              "      width: 32px;\n",
              "    }\n",
              "\n",
              "    .colab-df-convert:hover {\n",
              "      background-color: #E2EBFA;\n",
              "      box-shadow: 0px 1px 2px rgba(60, 64, 67, 0.3), 0px 1px 3px 1px rgba(60, 64, 67, 0.15);\n",
              "      fill: #174EA6;\n",
              "    }\n",
              "\n",
              "    .colab-df-buttons div {\n",
              "      margin-bottom: 4px;\n",
              "    }\n",
              "\n",
              "    [theme=dark] .colab-df-convert {\n",
              "      background-color: #3B4455;\n",
              "      fill: #D2E3FC;\n",
              "    }\n",
              "\n",
              "    [theme=dark] .colab-df-convert:hover {\n",
              "      background-color: #434B5C;\n",
              "      box-shadow: 0px 1px 3px 1px rgba(0, 0, 0, 0.15);\n",
              "      filter: drop-shadow(0px 1px 2px rgba(0, 0, 0, 0.3));\n",
              "      fill: #FFFFFF;\n",
              "    }\n",
              "  </style>\n",
              "\n",
              "    <script>\n",
              "      const buttonEl =\n",
              "        document.querySelector('#df-b29f17d8-4d9d-4dbd-9125-d49e7159631f button.colab-df-convert');\n",
              "      buttonEl.style.display =\n",
              "        google.colab.kernel.accessAllowed ? 'block' : 'none';\n",
              "\n",
              "      async function convertToInteractive(key) {\n",
              "        const element = document.querySelector('#df-b29f17d8-4d9d-4dbd-9125-d49e7159631f');\n",
              "        const dataTable =\n",
              "          await google.colab.kernel.invokeFunction('convertToInteractive',\n",
              "                                                    [key], {});\n",
              "        if (!dataTable) return;\n",
              "\n",
              "        const docLinkHtml = 'Like what you see? Visit the ' +\n",
              "          '<a target=\"_blank\" href=https://colab.research.google.com/notebooks/data_table.ipynb>data table notebook</a>'\n",
              "          + ' to learn more about interactive tables.';\n",
              "        element.innerHTML = '';\n",
              "        dataTable['output_type'] = 'display_data';\n",
              "        await google.colab.output.renderOutput(dataTable, element);\n",
              "        const docLink = document.createElement('div');\n",
              "        docLink.innerHTML = docLinkHtml;\n",
              "        element.appendChild(docLink);\n",
              "      }\n",
              "    </script>\n",
              "  </div>\n",
              "\n",
              "    </div>\n",
              "  </div>\n"
            ]
          },
          "metadata": {},
          "execution_count": 105
        }
      ]
    },
    {
      "cell_type": "code",
      "source": [
        "#Cargar los datos del dataframe actual a un archivo de excel para luego descargar el file\n",
        "\n",
        "nombre_del_archivo = 'Base_para_el_modelo.xlsx'\n",
        "\n",
        "#Utiliza la función to_excel() para exportar el DataFrame a Excel\n",
        "df.to_excel(nombre_del_archivo, index=False)  # El argumento index=False evita incluir el índice en el archivo"
      ],
      "metadata": {
        "id": "38OCCWQMiDwV"
      },
      "execution_count": 106,
      "outputs": []
    }
  ]
}