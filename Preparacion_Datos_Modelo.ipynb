{
  "nbformat": 4,
  "nbformat_minor": 0,
  "metadata": {
    "colab": {
      "provenance": []
    },
    "kernelspec": {
      "name": "python3",
      "display_name": "Python 3"
    },
    "language_info": {
      "name": "python"
    }
  },
  "cells": [
    {
      "cell_type": "markdown",
      "source": [
        "Preparación de los datos para la base que se ingresa al modelo"
      ],
      "metadata": {
        "id": "T5JR60bewEn8"
      }
    },
    {
      "cell_type": "code",
      "execution_count": 4,
      "metadata": {
        "id": "ziW_qMtcCJGV"
      },
      "outputs": [],
      "source": [
        "#Importamos las librerias necesarias\n",
        "import pandas as pd\n",
        "import pandas as pd\n",
        "from datetime import datetime\n",
        "from dateutil.relativedelta import relativedelta\n",
        "import numpy as np"
      ]
    },
    {
      "cell_type": "code",
      "source": [
        "#cargamos el archivo que contiene los datos, en este caso un archivo de excel\n",
        "#cargar los datos del archivo de excel en el dataframe\n",
        "archivo_excel = \"/content/Base prospectacion noviembre.xlsx\" #aqui va la ruta de donde esta almacenado el archivo\n",
        "df = pd.read_excel(archivo_excel)"
      ],
      "metadata": {
        "id": "wPSeXsu_uNXb"
      },
      "execution_count": 5,
      "outputs": []
    },
    {
      "cell_type": "code",
      "source": [
        "#tamaño inicial del dataframe, primer parametro son la cantidad de registros, segundo la cantidad de columnas\n",
        "df.shape"
      ],
      "metadata": {
        "colab": {
          "base_uri": "https://localhost:8080/"
        },
        "id": "pIrS9x8fK_DN",
        "outputId": "b9d6d4c4-b6a3-4247-ba0c-663e0e0152e5"
      },
      "execution_count": 6,
      "outputs": [
        {
          "output_type": "execute_result",
          "data": {
            "text/plain": [
              "(32863, 53)"
            ]
          },
          "metadata": {},
          "execution_count": 6
        }
      ]
    },
    {
      "cell_type": "code",
      "source": [
        "#codigo para no truncar la salida visual, debido a que se tienen muchas columnas\n",
        "pd.set_option('display.max_rows', None)\n",
        "pd.set_option('display.max_columns', None)"
      ],
      "metadata": {
        "id": "egaqL423xhGz"
      },
      "execution_count": 7,
      "outputs": []
    },
    {
      "cell_type": "code",
      "source": [
        "#revisamos el df cargado, el valor 2 hace referencia a solo mostrar las dos primeros registros\n",
        "df.head(2)"
      ],
      "metadata": {
        "colab": {
          "base_uri": "https://localhost:8080/",
          "height": 288
        },
        "id": "cATtPeo5IEgi",
        "outputId": "2b073023-1506-4199-88f6-6895e9b22c4c"
      },
      "execution_count": 8,
      "outputs": [
        {
          "output_type": "execute_result",
          "data": {
            "text/plain": [
              "  TIPO_DE_IDENTIFICACION  IDENTIFICACION                   NOMBRE_CLIENTE  \\\n",
              "0   CEDULA DE CIUDADANIA        31985279  LAHYD DEL CARMEN DAVID QUINTERO   \n",
              "1   CEDULA DE CIUDADANIA        46372308        DIANA MILENA SOLANO ROJAS   \n",
              "\n",
              "        DESCRIPCION FECHA_APERTURA ESTADO  SALDO_DISPONIBLE  VALOR_CUOTA  \\\n",
              "0  APORTES SOCIALES     2013-01-24      A        3129477.93      37806.0   \n",
              "1  APORTES SOCIALES     2017-06-14      A        1424025.04      40604.0   \n",
              "\n",
              "  ULT_TRANSACCION FORMA_PAGO  \\\n",
              "0      2023-10-06     Nomina   \n",
              "1      2023-10-26     Nomina   \n",
              "\n",
              "                                           PAGADURIA  \\\n",
              "0                               BPS CONSULTING S.A.S   \n",
              "1  SERVICIOS DE AUDITORIA Y CONSULTORIA DE NEGOCI...   \n",
              "\n",
              "   PAGADURIA_IDENTIFICACION  CREDIT_VISION Tipo Riegso EXPERIENCIA  \\\n",
              "0               901166320.0            981        Bajo          CE   \n",
              "1               800174750.0            798  Medio Bajo          CE   \n",
              "\n",
              "   INCOME_ESTIMATOR RESULTADO  VALOR_CUOTA_ACTUAL_PRIN  \\\n",
              "0          30430507  ACEPTADO                  2916000   \n",
              "1           6233439  ACEPTADO                  3135000   \n",
              "\n",
              "   VALOR_SALDO_ACTUAL_PRIN Solicitudes en Fabrica de Credito  \\\n",
              "0                  3514000                                 0   \n",
              "1                 26385000                                 0   \n",
              "\n",
              "  Solicitudes negadas ultimos 3 meses  Saldos de credito   Cupos Rotativos  \\\n",
              "0                                   0                 0.0                0   \n",
              "1                                   0                 0.0                0   \n",
              "\n",
              "   dias de Mora Reestructuracion Riesgo Empresa Mora Empresa  Delegado  \\\n",
              "0             0                0           Alto            0         0   \n",
              "1             0                0           Alto            0         0   \n",
              "\n",
              "   Colaborador  base de julio Base Hipoteca Base Septiembre  \\\n",
              "0            0  Credito Nuevo             0               0   \n",
              "1            0              0             0               0   \n",
              "\n",
              "  Gestion Asesor Externo-consumo Gestion Asesor Externo-retanquo  \\\n",
              "0              PENDIENTE LLAMADA                               0   \n",
              "1                              0                               0   \n",
              "\n",
              "  Gestion Asesor Externo-hipote    GENERO FECHA_VINCU ULTIMA_ACTUALIZACION  \\\n",
              "0                             0  Femenino  2012-02-20             00:00:00   \n",
              "1                             0  Femenino  2005-05-09             00:00:00   \n",
              "\n",
              "  TIPO_VIVIENDA  ESTRATO NIVEL_ACADEMICO ESTADO_CIVIL PERSONAS_A_CARGO  \\\n",
              "0        PROPIA        6       Postgrado       Casado              Uno   \n",
              "1        PROPIA        4   Universitario       Casado              Uno   \n",
              "\n",
              "   TOTAL_INGRESOS  TOTAL_ACTIVOS  TOTAL_PASIVOS  PATRIMONIO  \\\n",
              "0         9000000      740000000       20000000   720000000   \n",
              "1         3600001      265000000        8000000   257000000   \n",
              "\n",
              "              NOMBRE_COMPANIA RELACION_LABORAL          TIPO_CONTRATO  \\\n",
              "0        BPS CONSULTING S.A.S        Empleados  A tÃ©rmino Indefinido   \n",
              "1  BECKER Y ASSOCIATES S.A.S.        Empleados  A tÃ©rmino Indefinido   \n",
              "\n",
              "   SALARIO CIUDAD_RESIDENCIA  EDAD  \n",
              "0  6000000            BOGOTA    55  \n",
              "1  3600000            BOGOTA    48  "
            ],
            "text/html": [
              "\n",
              "  <div id=\"df-d74878b7-ea3a-476a-a3c4-504ddd20347d\" class=\"colab-df-container\">\n",
              "    <div>\n",
              "<style scoped>\n",
              "    .dataframe tbody tr th:only-of-type {\n",
              "        vertical-align: middle;\n",
              "    }\n",
              "\n",
              "    .dataframe tbody tr th {\n",
              "        vertical-align: top;\n",
              "    }\n",
              "\n",
              "    .dataframe thead th {\n",
              "        text-align: right;\n",
              "    }\n",
              "</style>\n",
              "<table border=\"1\" class=\"dataframe\">\n",
              "  <thead>\n",
              "    <tr style=\"text-align: right;\">\n",
              "      <th></th>\n",
              "      <th>TIPO_DE_IDENTIFICACION</th>\n",
              "      <th>IDENTIFICACION</th>\n",
              "      <th>NOMBRE_CLIENTE</th>\n",
              "      <th>DESCRIPCION</th>\n",
              "      <th>FECHA_APERTURA</th>\n",
              "      <th>ESTADO</th>\n",
              "      <th>SALDO_DISPONIBLE</th>\n",
              "      <th>VALOR_CUOTA</th>\n",
              "      <th>ULT_TRANSACCION</th>\n",
              "      <th>FORMA_PAGO</th>\n",
              "      <th>PAGADURIA</th>\n",
              "      <th>PAGADURIA_IDENTIFICACION</th>\n",
              "      <th>CREDIT_VISION</th>\n",
              "      <th>Tipo Riegso</th>\n",
              "      <th>EXPERIENCIA</th>\n",
              "      <th>INCOME_ESTIMATOR</th>\n",
              "      <th>RESULTADO</th>\n",
              "      <th>VALOR_CUOTA_ACTUAL_PRIN</th>\n",
              "      <th>VALOR_SALDO_ACTUAL_PRIN</th>\n",
              "      <th>Solicitudes en Fabrica de Credito</th>\n",
              "      <th>Solicitudes negadas ultimos 3 meses</th>\n",
              "      <th>Saldos de credito</th>\n",
              "      <th>Cupos Rotativos</th>\n",
              "      <th>dias de Mora</th>\n",
              "      <th>Reestructuracion</th>\n",
              "      <th>Riesgo Empresa</th>\n",
              "      <th>Mora Empresa</th>\n",
              "      <th>Delegado</th>\n",
              "      <th>Colaborador</th>\n",
              "      <th>base de julio</th>\n",
              "      <th>Base Hipoteca</th>\n",
              "      <th>Base Septiembre</th>\n",
              "      <th>Gestion Asesor Externo-consumo</th>\n",
              "      <th>Gestion Asesor Externo-retanquo</th>\n",
              "      <th>Gestion Asesor Externo-hipote</th>\n",
              "      <th>GENERO</th>\n",
              "      <th>FECHA_VINCU</th>\n",
              "      <th>ULTIMA_ACTUALIZACION</th>\n",
              "      <th>TIPO_VIVIENDA</th>\n",
              "      <th>ESTRATO</th>\n",
              "      <th>NIVEL_ACADEMICO</th>\n",
              "      <th>ESTADO_CIVIL</th>\n",
              "      <th>PERSONAS_A_CARGO</th>\n",
              "      <th>TOTAL_INGRESOS</th>\n",
              "      <th>TOTAL_ACTIVOS</th>\n",
              "      <th>TOTAL_PASIVOS</th>\n",
              "      <th>PATRIMONIO</th>\n",
              "      <th>NOMBRE_COMPANIA</th>\n",
              "      <th>RELACION_LABORAL</th>\n",
              "      <th>TIPO_CONTRATO</th>\n",
              "      <th>SALARIO</th>\n",
              "      <th>CIUDAD_RESIDENCIA</th>\n",
              "      <th>EDAD</th>\n",
              "    </tr>\n",
              "  </thead>\n",
              "  <tbody>\n",
              "    <tr>\n",
              "      <th>0</th>\n",
              "      <td>CEDULA DE CIUDADANIA</td>\n",
              "      <td>31985279</td>\n",
              "      <td>LAHYD DEL CARMEN DAVID QUINTERO</td>\n",
              "      <td>APORTES SOCIALES</td>\n",
              "      <td>2013-01-24</td>\n",
              "      <td>A</td>\n",
              "      <td>3129477.93</td>\n",
              "      <td>37806.0</td>\n",
              "      <td>2023-10-06</td>\n",
              "      <td>Nomina</td>\n",
              "      <td>BPS CONSULTING S.A.S</td>\n",
              "      <td>901166320.0</td>\n",
              "      <td>981</td>\n",
              "      <td>Bajo</td>\n",
              "      <td>CE</td>\n",
              "      <td>30430507</td>\n",
              "      <td>ACEPTADO</td>\n",
              "      <td>2916000</td>\n",
              "      <td>3514000</td>\n",
              "      <td>0</td>\n",
              "      <td>0</td>\n",
              "      <td>0.0</td>\n",
              "      <td>0</td>\n",
              "      <td>0</td>\n",
              "      <td>0</td>\n",
              "      <td>Alto</td>\n",
              "      <td>0</td>\n",
              "      <td>0</td>\n",
              "      <td>0</td>\n",
              "      <td>Credito Nuevo</td>\n",
              "      <td>0</td>\n",
              "      <td>0</td>\n",
              "      <td>PENDIENTE LLAMADA</td>\n",
              "      <td>0</td>\n",
              "      <td>0</td>\n",
              "      <td>Femenino</td>\n",
              "      <td>2012-02-20</td>\n",
              "      <td>00:00:00</td>\n",
              "      <td>PROPIA</td>\n",
              "      <td>6</td>\n",
              "      <td>Postgrado</td>\n",
              "      <td>Casado</td>\n",
              "      <td>Uno</td>\n",
              "      <td>9000000</td>\n",
              "      <td>740000000</td>\n",
              "      <td>20000000</td>\n",
              "      <td>720000000</td>\n",
              "      <td>BPS CONSULTING S.A.S</td>\n",
              "      <td>Empleados</td>\n",
              "      <td>A tÃ©rmino Indefinido</td>\n",
              "      <td>6000000</td>\n",
              "      <td>BOGOTA</td>\n",
              "      <td>55</td>\n",
              "    </tr>\n",
              "    <tr>\n",
              "      <th>1</th>\n",
              "      <td>CEDULA DE CIUDADANIA</td>\n",
              "      <td>46372308</td>\n",
              "      <td>DIANA MILENA SOLANO ROJAS</td>\n",
              "      <td>APORTES SOCIALES</td>\n",
              "      <td>2017-06-14</td>\n",
              "      <td>A</td>\n",
              "      <td>1424025.04</td>\n",
              "      <td>40604.0</td>\n",
              "      <td>2023-10-26</td>\n",
              "      <td>Nomina</td>\n",
              "      <td>SERVICIOS DE AUDITORIA Y CONSULTORIA DE NEGOCI...</td>\n",
              "      <td>800174750.0</td>\n",
              "      <td>798</td>\n",
              "      <td>Medio Bajo</td>\n",
              "      <td>CE</td>\n",
              "      <td>6233439</td>\n",
              "      <td>ACEPTADO</td>\n",
              "      <td>3135000</td>\n",
              "      <td>26385000</td>\n",
              "      <td>0</td>\n",
              "      <td>0</td>\n",
              "      <td>0.0</td>\n",
              "      <td>0</td>\n",
              "      <td>0</td>\n",
              "      <td>0</td>\n",
              "      <td>Alto</td>\n",
              "      <td>0</td>\n",
              "      <td>0</td>\n",
              "      <td>0</td>\n",
              "      <td>0</td>\n",
              "      <td>0</td>\n",
              "      <td>0</td>\n",
              "      <td>0</td>\n",
              "      <td>0</td>\n",
              "      <td>0</td>\n",
              "      <td>Femenino</td>\n",
              "      <td>2005-05-09</td>\n",
              "      <td>00:00:00</td>\n",
              "      <td>PROPIA</td>\n",
              "      <td>4</td>\n",
              "      <td>Universitario</td>\n",
              "      <td>Casado</td>\n",
              "      <td>Uno</td>\n",
              "      <td>3600001</td>\n",
              "      <td>265000000</td>\n",
              "      <td>8000000</td>\n",
              "      <td>257000000</td>\n",
              "      <td>BECKER Y ASSOCIATES S.A.S.</td>\n",
              "      <td>Empleados</td>\n",
              "      <td>A tÃ©rmino Indefinido</td>\n",
              "      <td>3600000</td>\n",
              "      <td>BOGOTA</td>\n",
              "      <td>48</td>\n",
              "    </tr>\n",
              "  </tbody>\n",
              "</table>\n",
              "</div>\n",
              "    <div class=\"colab-df-buttons\">\n",
              "\n",
              "  <div class=\"colab-df-container\">\n",
              "    <button class=\"colab-df-convert\" onclick=\"convertToInteractive('df-d74878b7-ea3a-476a-a3c4-504ddd20347d')\"\n",
              "            title=\"Convert this dataframe to an interactive table.\"\n",
              "            style=\"display:none;\">\n",
              "\n",
              "  <svg xmlns=\"http://www.w3.org/2000/svg\" height=\"24px\" viewBox=\"0 -960 960 960\">\n",
              "    <path d=\"M120-120v-720h720v720H120Zm60-500h600v-160H180v160Zm220 220h160v-160H400v160Zm0 220h160v-160H400v160ZM180-400h160v-160H180v160Zm440 0h160v-160H620v160ZM180-180h160v-160H180v160Zm440 0h160v-160H620v160Z\"/>\n",
              "  </svg>\n",
              "    </button>\n",
              "\n",
              "  <style>\n",
              "    .colab-df-container {\n",
              "      display:flex;\n",
              "      gap: 12px;\n",
              "    }\n",
              "\n",
              "    .colab-df-convert {\n",
              "      background-color: #E8F0FE;\n",
              "      border: none;\n",
              "      border-radius: 50%;\n",
              "      cursor: pointer;\n",
              "      display: none;\n",
              "      fill: #1967D2;\n",
              "      height: 32px;\n",
              "      padding: 0 0 0 0;\n",
              "      width: 32px;\n",
              "    }\n",
              "\n",
              "    .colab-df-convert:hover {\n",
              "      background-color: #E2EBFA;\n",
              "      box-shadow: 0px 1px 2px rgba(60, 64, 67, 0.3), 0px 1px 3px 1px rgba(60, 64, 67, 0.15);\n",
              "      fill: #174EA6;\n",
              "    }\n",
              "\n",
              "    .colab-df-buttons div {\n",
              "      margin-bottom: 4px;\n",
              "    }\n",
              "\n",
              "    [theme=dark] .colab-df-convert {\n",
              "      background-color: #3B4455;\n",
              "      fill: #D2E3FC;\n",
              "    }\n",
              "\n",
              "    [theme=dark] .colab-df-convert:hover {\n",
              "      background-color: #434B5C;\n",
              "      box-shadow: 0px 1px 3px 1px rgba(0, 0, 0, 0.15);\n",
              "      filter: drop-shadow(0px 1px 2px rgba(0, 0, 0, 0.3));\n",
              "      fill: #FFFFFF;\n",
              "    }\n",
              "  </style>\n",
              "\n",
              "    <script>\n",
              "      const buttonEl =\n",
              "        document.querySelector('#df-d74878b7-ea3a-476a-a3c4-504ddd20347d button.colab-df-convert');\n",
              "      buttonEl.style.display =\n",
              "        google.colab.kernel.accessAllowed ? 'block' : 'none';\n",
              "\n",
              "      async function convertToInteractive(key) {\n",
              "        const element = document.querySelector('#df-d74878b7-ea3a-476a-a3c4-504ddd20347d');\n",
              "        const dataTable =\n",
              "          await google.colab.kernel.invokeFunction('convertToInteractive',\n",
              "                                                    [key], {});\n",
              "        if (!dataTable) return;\n",
              "\n",
              "        const docLinkHtml = 'Like what you see? Visit the ' +\n",
              "          '<a target=\"_blank\" href=https://colab.research.google.com/notebooks/data_table.ipynb>data table notebook</a>'\n",
              "          + ' to learn more about interactive tables.';\n",
              "        element.innerHTML = '';\n",
              "        dataTable['output_type'] = 'display_data';\n",
              "        await google.colab.output.renderOutput(dataTable, element);\n",
              "        const docLink = document.createElement('div');\n",
              "        docLink.innerHTML = docLinkHtml;\n",
              "        element.appendChild(docLink);\n",
              "      }\n",
              "    </script>\n",
              "  </div>\n",
              "\n",
              "\n",
              "<div id=\"df-1f08d80b-43f7-4dad-b0ea-faa20f62557a\">\n",
              "  <button class=\"colab-df-quickchart\" onclick=\"quickchart('df-1f08d80b-43f7-4dad-b0ea-faa20f62557a')\"\n",
              "            title=\"Suggest charts\"\n",
              "            style=\"display:none;\">\n",
              "\n",
              "<svg xmlns=\"http://www.w3.org/2000/svg\" height=\"24px\"viewBox=\"0 0 24 24\"\n",
              "     width=\"24px\">\n",
              "    <g>\n",
              "        <path d=\"M19 3H5c-1.1 0-2 .9-2 2v14c0 1.1.9 2 2 2h14c1.1 0 2-.9 2-2V5c0-1.1-.9-2-2-2zM9 17H7v-7h2v7zm4 0h-2V7h2v10zm4 0h-2v-4h2v4z\"/>\n",
              "    </g>\n",
              "</svg>\n",
              "  </button>\n",
              "\n",
              "<style>\n",
              "  .colab-df-quickchart {\n",
              "      --bg-color: #E8F0FE;\n",
              "      --fill-color: #1967D2;\n",
              "      --hover-bg-color: #E2EBFA;\n",
              "      --hover-fill-color: #174EA6;\n",
              "      --disabled-fill-color: #AAA;\n",
              "      --disabled-bg-color: #DDD;\n",
              "  }\n",
              "\n",
              "  [theme=dark] .colab-df-quickchart {\n",
              "      --bg-color: #3B4455;\n",
              "      --fill-color: #D2E3FC;\n",
              "      --hover-bg-color: #434B5C;\n",
              "      --hover-fill-color: #FFFFFF;\n",
              "      --disabled-bg-color: #3B4455;\n",
              "      --disabled-fill-color: #666;\n",
              "  }\n",
              "\n",
              "  .colab-df-quickchart {\n",
              "    background-color: var(--bg-color);\n",
              "    border: none;\n",
              "    border-radius: 50%;\n",
              "    cursor: pointer;\n",
              "    display: none;\n",
              "    fill: var(--fill-color);\n",
              "    height: 32px;\n",
              "    padding: 0;\n",
              "    width: 32px;\n",
              "  }\n",
              "\n",
              "  .colab-df-quickchart:hover {\n",
              "    background-color: var(--hover-bg-color);\n",
              "    box-shadow: 0 1px 2px rgba(60, 64, 67, 0.3), 0 1px 3px 1px rgba(60, 64, 67, 0.15);\n",
              "    fill: var(--button-hover-fill-color);\n",
              "  }\n",
              "\n",
              "  .colab-df-quickchart-complete:disabled,\n",
              "  .colab-df-quickchart-complete:disabled:hover {\n",
              "    background-color: var(--disabled-bg-color);\n",
              "    fill: var(--disabled-fill-color);\n",
              "    box-shadow: none;\n",
              "  }\n",
              "\n",
              "  .colab-df-spinner {\n",
              "    border: 2px solid var(--fill-color);\n",
              "    border-color: transparent;\n",
              "    border-bottom-color: var(--fill-color);\n",
              "    animation:\n",
              "      spin 1s steps(1) infinite;\n",
              "  }\n",
              "\n",
              "  @keyframes spin {\n",
              "    0% {\n",
              "      border-color: transparent;\n",
              "      border-bottom-color: var(--fill-color);\n",
              "      border-left-color: var(--fill-color);\n",
              "    }\n",
              "    20% {\n",
              "      border-color: transparent;\n",
              "      border-left-color: var(--fill-color);\n",
              "      border-top-color: var(--fill-color);\n",
              "    }\n",
              "    30% {\n",
              "      border-color: transparent;\n",
              "      border-left-color: var(--fill-color);\n",
              "      border-top-color: var(--fill-color);\n",
              "      border-right-color: var(--fill-color);\n",
              "    }\n",
              "    40% {\n",
              "      border-color: transparent;\n",
              "      border-right-color: var(--fill-color);\n",
              "      border-top-color: var(--fill-color);\n",
              "    }\n",
              "    60% {\n",
              "      border-color: transparent;\n",
              "      border-right-color: var(--fill-color);\n",
              "    }\n",
              "    80% {\n",
              "      border-color: transparent;\n",
              "      border-right-color: var(--fill-color);\n",
              "      border-bottom-color: var(--fill-color);\n",
              "    }\n",
              "    90% {\n",
              "      border-color: transparent;\n",
              "      border-bottom-color: var(--fill-color);\n",
              "    }\n",
              "  }\n",
              "</style>\n",
              "\n",
              "  <script>\n",
              "    async function quickchart(key) {\n",
              "      const quickchartButtonEl =\n",
              "        document.querySelector('#' + key + ' button');\n",
              "      quickchartButtonEl.disabled = true;  // To prevent multiple clicks.\n",
              "      quickchartButtonEl.classList.add('colab-df-spinner');\n",
              "      try {\n",
              "        const charts = await google.colab.kernel.invokeFunction(\n",
              "            'suggestCharts', [key], {});\n",
              "      } catch (error) {\n",
              "        console.error('Error during call to suggestCharts:', error);\n",
              "      }\n",
              "      quickchartButtonEl.classList.remove('colab-df-spinner');\n",
              "      quickchartButtonEl.classList.add('colab-df-quickchart-complete');\n",
              "    }\n",
              "    (() => {\n",
              "      let quickchartButtonEl =\n",
              "        document.querySelector('#df-1f08d80b-43f7-4dad-b0ea-faa20f62557a button');\n",
              "      quickchartButtonEl.style.display =\n",
              "        google.colab.kernel.accessAllowed ? 'block' : 'none';\n",
              "    })();\n",
              "  </script>\n",
              "</div>\n",
              "    </div>\n",
              "  </div>\n"
            ]
          },
          "metadata": {},
          "execution_count": 8
        }
      ]
    },
    {
      "cell_type": "markdown",
      "source": [
        "Eliminación de registros no necesarios\n"
      ],
      "metadata": {
        "id": "JQ2_HgxPL6xJ"
      }
    },
    {
      "cell_type": "code",
      "source": [
        "# Filtra el DataFrame utilizando query para eliminar los registros diferentes a cero\n",
        "df = df.query(\"`Solicitudes en Fabrica de Credito` == 0\")\n",
        "\n",
        "#columna Solicitudes negadas ultimos 3 meses\n",
        "df = df.query(\"`Solicitudes negadas ultimos 3 meses` == 0\")\n",
        "\n",
        "# Columna 'ESTADO' es el nombre de tu columna de interés.\n",
        "df = df.query(\"`ESTADO` == 'A'\")\n",
        "\n",
        "\n",
        "# Filtra el DataFrame para mantener solo los registros que cumplen todas las condiciones\n",
        "df = df.loc[\n",
        "    (df['Cupos Rotativos'] == 0) &\n",
        "    (df['dias de Mora'] == 0) &\n",
        "    ((df['Reestructuracion'] == 0) | (df['Reestructuracion'] == 'N')) &\n",
        "    (df['Mora Empresa'] == 0) &\n",
        "    (df['Delegado'] == 0) &\n",
        "    (df['Colaborador'] == 0) &\n",
        "    (df['Saldos de credito '] < 100000)  # Asegúrate de que el nombre de la columna es exacto\n",
        "]\n"
      ],
      "metadata": {
        "id": "G1FQi2wRLyze"
      },
      "execution_count": 9,
      "outputs": []
    },
    {
      "cell_type": "code",
      "source": [
        "#tamaño  del dataframe luego de la eliminacion de registros\n",
        "df.shape"
      ],
      "metadata": {
        "colab": {
          "base_uri": "https://localhost:8080/"
        },
        "id": "7AQwWYAOMAWL",
        "outputId": "45e9c6a1-487e-4b96-fedc-ad5f26ecb987"
      },
      "execution_count": 10,
      "outputs": [
        {
          "output_type": "execute_result",
          "data": {
            "text/plain": [
              "(26176, 53)"
            ]
          },
          "metadata": {},
          "execution_count": 10
        }
      ]
    },
    {
      "cell_type": "markdown",
      "source": [
        "GENERACION DE COLUMNAS A PARTIR DE LAS EXISTENTES"
      ],
      "metadata": {
        "id": "nnJn3ppA0lnI"
      }
    },
    {
      "cell_type": "code",
      "source": [
        "#ANTIGUEDAD EN UNIMOS\n",
        "# Asegúrate de que las fechas en FECHA_APERTURA estén en formato datetime\n",
        "df['FECHA_APERTURA'] = pd.to_datetime(df['FECHA_APERTURA'])\n",
        "\n",
        "# La fecha de referencia contra la cual quieres calcular la antigüedad en meses\n",
        "# Debes ingresarla en el formato 'YYYY-MM-DD'\n",
        "fecha_referencia = input(\"Por favor ingresa la fecha de referencia (YYYY-MM-DD): \")\n",
        "fecha_referencia = datetime.strptime(fecha_referencia, '%Y-%m-%d')\n",
        "\n",
        "# Calcula la antigüedad en meses usando una función lambda y relativedelta\n",
        "df['ANTIGUEDAD_UNIMOS(MESES)'] = df['FECHA_APERTURA'].apply(\n",
        "    lambda x: (fecha_referencia.year - x.year) * 12 + fecha_referencia.month - x.month - (1 if fecha_referencia.day < x.day else 0)\n",
        ")\n",
        "\n",
        "\n"
      ],
      "metadata": {
        "id": "f4gqPDxUHrky",
        "colab": {
          "base_uri": "https://localhost:8080/"
        },
        "outputId": "bdb17d79-3010-46ef-96cc-ce1ad1259e8f"
      },
      "execution_count": 11,
      "outputs": [
        {
          "name": "stdout",
          "output_type": "stream",
          "text": [
            "Por favor ingresa la fecha de referencia (YYYY-MM-DD): 2023-11-23\n"
          ]
        }
      ]
    },
    {
      "cell_type": "code",
      "source": [
        "#ANTIGUEDAD LABORAL\n",
        "# Convertir la columna 'FECHA_VINCU' a datetime, si no lo está ya. Esto fallará si la columna tiene valores de tiempo sin fecha.\n",
        "df['FECHA_VINCU'] = pd.to_datetime(df['FECHA_VINCU'], errors='raise')\n",
        "\n",
        "# La fecha de referencia contra la cual quieres calcular la antigüedad\n",
        "fecha_referencia_str = input(\"Por favor ingresa la fecha de referencia (YYYY-MM-DD): \")\n",
        "fecha_referencia = datetime.strptime(fecha_referencia_str, '%Y-%m-%d')\n",
        "\n",
        "# Calcula la antigüedad en años\n",
        "df['ANTIGUEDAD_LABORAL_AÑOS'] = df['FECHA_VINCU'].apply(lambda x: (fecha_referencia.year - x.year) - (1 if (fecha_referencia.month, fecha_referencia.day) < (x.month, x.day) else 0))\n",
        "\n"
      ],
      "metadata": {
        "id": "-MmiAJzKkrkm",
        "colab": {
          "base_uri": "https://localhost:8080/"
        },
        "outputId": "be5f799e-92aa-44ce-d077-16ba26355db3"
      },
      "execution_count": 12,
      "outputs": [
        {
          "name": "stdout",
          "output_type": "stream",
          "text": [
            "Por favor ingresa la fecha de referencia (YYYY-MM-DD): 2023-11-27\n"
          ]
        }
      ]
    },
    {
      "cell_type": "code",
      "source": [
        "# Agrega una nueva columna llamada 'plazo de credito' con el valor 60 en todas las filas\n",
        "df['plazo de credito'] = 60\n"
      ],
      "metadata": {
        "id": "HCqkSpCD1RyB"
      },
      "execution_count": 13,
      "outputs": []
    },
    {
      "cell_type": "code",
      "source": [
        "#CAPACIDAD DE PAGO\n",
        "\n",
        "def calcular_capacidad_de_pago(row):\n",
        "    if row['SALARIO'] == 0:\n",
        "        return 5  # Imputa 5 si el salario es cero para evitar división por cero\n",
        "\n",
        "    # Calcula la capacidad de pago\n",
        "    resultado = (row['SALARIO'] - (row['SALARIO'] * 0.36) - row['VALOR_CUOTA_ACTUAL_PRIN']) / row['SALARIO']\n",
        "\n",
        "    # Imputa valores según los rangos especificados\n",
        "    if resultado <= 0:\n",
        "        return 5\n",
        "    elif 0 < resultado < 0.10:\n",
        "        return 5\n",
        "    elif 0.10 <= resultado < 0.30:\n",
        "        return 4\n",
        "    elif 0.30 <= resultado < 0.40:\n",
        "        return 3\n",
        "    elif 0.40 <= resultado < 0.50:\n",
        "        return 2\n",
        "    elif resultado >= 0.50:\n",
        "        return 1\n",
        "\n",
        "# Aplica la función y crea la nueva columna 'CAPACIDAD_DE_PAGO'\n",
        "df['CAPACIDAD_DE_PAGO'] = df.apply(calcular_capacidad_de_pago, axis=1)\n",
        "\n"
      ],
      "metadata": {
        "id": "DH3PKKZ5shf7"
      },
      "execution_count": 14,
      "outputs": []
    },
    {
      "cell_type": "code",
      "source": [
        "#DESCUENTOS DE NOMINA\n",
        "# Función que calcula el descuento según el salario\n",
        "def calcular_descuento(salario):\n",
        "    if salario < 4500000:\n",
        "        return salario * 0.08\n",
        "    else:\n",
        "        return salario * 0.10\n",
        "\n",
        "# Aplicar la función a la columna 'SALARIO'\n",
        "df['Descuentos de Nomina'] = df['SALARIO'].apply(calcular_descuento)\n",
        "\n"
      ],
      "metadata": {
        "id": "6aeSemYUtA9n"
      },
      "execution_count": 15,
      "outputs": []
    },
    {
      "cell_type": "code",
      "source": [
        "#TOTAL GASTOS\n",
        "# Calcula el nuevo valor en base a la condición dada y lo asigna a una nueva columna\n",
        "df['TOTAL GASTOS'] = np.where(df['SALARIO'] > 2000000, df['SALARIO'] * 0.30, df['SALARIO'] * 0.40)\n",
        "\n"
      ],
      "metadata": {
        "id": "nEywjSKKzCAy"
      },
      "execution_count": 16,
      "outputs": []
    },
    {
      "cell_type": "code",
      "source": [
        "#CAPACIDAD DE DESCUENTOS\n",
        "\n",
        "def calcular_capacidad_descuentos(row):\n",
        "    # Verificar si el salario es cero para evitar división por cero\n",
        "    if row['SALARIO'] == 0:\n",
        "        return 5  # Imputa 5 si el salario es cero\n",
        "\n",
        "    # Calcula la capacidad de descuentos\n",
        "    capacidad_descuentos = (row['SALARIO'] * 0.5 - row['Descuentos de Nomina']) / row['SALARIO']\n",
        "\n",
        "    # Imputación según los rangos especificados\n",
        "    if capacidad_descuentos <= 0:\n",
        "        return 5\n",
        "    elif 0 < capacidad_descuentos < 0.10:\n",
        "        return 5\n",
        "    elif 0.10 <= capacidad_descuentos < 0.30:\n",
        "        return 4\n",
        "    elif 0.30 <= capacidad_descuentos < 0.40:\n",
        "        return 3\n",
        "    elif 0.40 <= capacidad_descuentos < 0.50:\n",
        "        return 2\n",
        "    elif capacidad_descuentos >= 0.50:\n",
        "        return 1\n",
        "\n",
        "# Aplica la función y crea la nueva columna 'CAPACIDAD_DESCUENTOS'\n",
        "df['CAPACIDAD_DESCUENTOS'] = df.apply(calcular_capacidad_descuentos, axis=1)\n",
        "\n"
      ],
      "metadata": {
        "id": "jtb-tl4jxiMP"
      },
      "execution_count": 17,
      "outputs": []
    },
    {
      "cell_type": "code",
      "source": [
        "#RAZON GASTOS TOTALES\n",
        "\n",
        "def calcular_razon_gastos_totales(row):\n",
        "    # Evita la división por cero asignando un valor por defecto si 'SALARIO' es cero.\n",
        "    if row['SALARIO'] == 0:\n",
        "        return 5\n",
        "\n",
        "    # Calcula la razón de gasto totales\n",
        "    razon = (row['SALARIO'] + row['TOTAL GASTOS'] + row['Descuentos de Nomina']) / row['SALARIO']\n",
        "\n",
        "    # Imputación según los rangos especificados\n",
        "    if razon <= 0 or razon < 0.40:\n",
        "        return 1\n",
        "    elif 0.40 <= razon < 0.70:\n",
        "        return 2\n",
        "    elif 0.70 <= razon < 0.80:\n",
        "        return 3\n",
        "    elif 0.80 <= razon < 0.90:\n",
        "        return 4\n",
        "    elif razon >= 0.90:\n",
        "        return 5\n",
        "\n",
        "# Aplica la función y crea la nueva columna 'RAZON GASTO TOTALES'\n",
        "df['RAZON GASTOS TOTALES'] = df.apply(calcular_razon_gastos_totales, axis=1)\n",
        "\n"
      ],
      "metadata": {
        "id": "TlwKB2vn1ft7"
      },
      "execution_count": 18,
      "outputs": []
    },
    {
      "cell_type": "code",
      "source": [
        "# RAZON GASTOS FINANCIEROS\n",
        "\n",
        "def calcular_razon_gastos_financieros(row):\n",
        "    # Evita la división por cero asignando un valor por defecto si 'SALARIO' es cero.\n",
        "    if row['SALARIO'] == 0:\n",
        "        return 5\n",
        "\n",
        "    # Calcula la razón de gastos financieros\n",
        "    razon = row['VALOR_CUOTA_ACTUAL_PRIN'] / row['SALARIO']\n",
        "\n",
        "    # Imputación según los rangos especificados\n",
        "    if razon <= 0 or razon < 0.21:\n",
        "        return 1\n",
        "    elif 0.21 <= razon < 0.31:\n",
        "        return 2\n",
        "    elif 0.31 <= razon < 0.41:\n",
        "        return 3\n",
        "    elif 0.41 <= razon < 0.51:\n",
        "        return 4\n",
        "    elif razon >= 0.51:\n",
        "        return 5\n",
        "\n",
        "# Aplica la función y crea la nueva columna 'RAZON GASTOS FINANCIEROS'\n",
        "df['RAZON GASTOS FINANCIEROS'] = df.apply(calcular_razon_gastos_financieros, axis=1)\n",
        "\n"
      ],
      "metadata": {
        "id": "bDNpF2fQ3QgS"
      },
      "execution_count": 19,
      "outputs": []
    },
    {
      "cell_type": "code",
      "source": [
        "#RAZON ENDEUDAMIENTO TOTAL\n",
        "\n",
        "def calcular_razon_endeudamiento_total(row):\n",
        "    # Evita la división por cero asignando un valor por defecto si 'VALOR_SALDO_ACTUAL_PRIN' es cero.\n",
        "    if row['VALOR_SALDO_ACTUAL_PRIN'] == 0:\n",
        "        return 5\n",
        "\n",
        "    # Calcula la razón de endeudamiento total\n",
        "    razon = row['TOTAL_ACTIVOS'] / row['VALOR_SALDO_ACTUAL_PRIN']\n",
        "\n",
        "    # Imputación según los rangos especificados\n",
        "    if razon <= 0 or razon < 0.71:\n",
        "        return 1\n",
        "    elif 0.71 <= razon < 0.81:\n",
        "        return 2\n",
        "    elif 0.81 <= razon < 0.91:\n",
        "        return 3\n",
        "    elif 0.91 <= razon < 1.01:\n",
        "        return 4\n",
        "    elif razon >= 1.01:\n",
        "        return 5\n",
        "\n",
        "# Aplica la función y crea la nueva columna 'RAZON ENDEUDAMIENTO TOTAL'\n",
        "df['RAZON ENDEUDAMIENTO TOTAL'] = df.apply(calcular_razon_endeudamiento_total, axis=1)\n"
      ],
      "metadata": {
        "id": "0NswZYyH6cDK"
      },
      "execution_count": 20,
      "outputs": []
    },
    {
      "cell_type": "markdown",
      "source": [
        "IMPUTANDO LOS VALORES SEGUN MANUAL"
      ],
      "metadata": {
        "id": "W-r4ro2_9XBW"
      }
    },
    {
      "cell_type": "code",
      "source": [
        "#IMPUTACION ANTIGUEDAD UNIMOS (MESES)\n",
        "def imputar_antiguedad(meses):\n",
        "    if meses < 6:\n",
        "        return 5\n",
        "    elif 6 <= meses < 12:\n",
        "        return 4\n",
        "    elif 12 <= meses < 24:\n",
        "        return 3\n",
        "    elif meses == 24:\n",
        "        return 2\n",
        "    elif meses >= 25:\n",
        "        return 1\n",
        "\n",
        "# Aplicar la función para reemplazar valores en la misma columna\n",
        "df['ANTIGUEDAD_UNIMOS(MESES)'] = df['ANTIGUEDAD_UNIMOS(MESES)'].apply(imputar_antiguedad)\n"
      ],
      "metadata": {
        "id": "VcQYOkIGQmfa"
      },
      "execution_count": 21,
      "outputs": []
    },
    {
      "cell_type": "code",
      "source": [
        "#ANTIGUEDAD LABORAL\n",
        "def imputar_antiguedad_laboral(anos):\n",
        "    if anos <= 1:\n",
        "        return 5\n",
        "    elif 1 < anos < 3:\n",
        "        return 3\n",
        "    elif 3 <= anos < 5:\n",
        "        return 2\n",
        "    elif anos >= 5:\n",
        "        return 1\n",
        "\n",
        "# Aplicar la función para reemplazar valores en la misma columna\n",
        "df['ANTIGUEDAD_LABORAL_AÑOS'] = df['ANTIGUEDAD_LABORAL_AÑOS'].apply(imputar_antiguedad_laboral)\n"
      ],
      "metadata": {
        "id": "WucCgx2XTpDO"
      },
      "execution_count": 22,
      "outputs": []
    },
    {
      "cell_type": "code",
      "source": [
        "# TIPO VIVIENDA\n",
        "mapeo_reemplazo = {\n",
        " 0:4,\n",
        "\"FAMILIAR\":5,\n",
        "\"PROPIA\":1,\n",
        "\"ARRENDADA\":4,\n",
        "\n",
        "}\n",
        "\n",
        "# Utiliza el método replace con el diccionario de mapeo\n",
        "df[\"TIPO_VIVIENDA\"] = df[\"TIPO_VIVIENDA\"].replace(mapeo_reemplazo)"
      ],
      "metadata": {
        "id": "7HX_o2sq30mu"
      },
      "execution_count": 23,
      "outputs": []
    },
    {
      "cell_type": "code",
      "source": [
        "#PUNTAJE SCORING\n",
        "\n",
        "def imputar_credit_vision(valor):\n",
        "    if valor <= 0 or valor < 631:\n",
        "        return 5\n",
        "    elif 631 <= valor < 701:\n",
        "        return 4\n",
        "    elif 701 <= valor < 771:\n",
        "        return 3\n",
        "    elif 771 <= valor < 900:\n",
        "        return 2\n",
        "    elif valor >= 900:\n",
        "        return 1\n",
        "\n",
        "# Aplica la función y crea la nueva columna 'CREDIT_VISION'\n",
        "df['CREDIT_VISION'] = df['CREDIT_VISION'].apply(imputar_credit_vision)\n",
        "\n"
      ],
      "metadata": {
        "id": "5ryqepcN9NVq"
      },
      "execution_count": 24,
      "outputs": []
    },
    {
      "cell_type": "code",
      "source": [
        "# imputando la FORMA DE PAGO\n",
        "mapeo_forma_pago = {\n",
        "    'Nomina': 3,\n",
        "    'DÃ©bito Banco': 2,\n",
        "    'DÃ©bito aut. Externo': 2,\n",
        "    'DÃ©bito AutomÃ¡tico': 2\n",
        "}\n",
        "\n",
        "# Aplicando el mapeo con replace\n",
        "df['FORMA_PAGO'] = df['FORMA_PAGO'].replace(mapeo_forma_pago)\n"
      ],
      "metadata": {
        "id": "aedHROD4xImo"
      },
      "execution_count": 25,
      "outputs": []
    },
    {
      "cell_type": "code",
      "source": [
        "#VARIABLE RESULTADO\n",
        "mapeo_resultado = {\n",
        "    0: 3,\n",
        "    'ACEPTADO': 1,\n",
        "    'RECHAZADO': 5,\n",
        "    'PENDIENTE': 3\n",
        "}\n",
        "\n",
        "# Aplicando el mapeo con replace\n",
        "df['RESULTADO'] = df['RESULTADO'].replace(mapeo_resultado)\n"
      ],
      "metadata": {
        "id": "k6jn4dJU0ct8"
      },
      "execution_count": 26,
      "outputs": []
    },
    {
      "cell_type": "code",
      "source": [
        "#RIESGO EMPRESA\n",
        "\n",
        "mapeo_riesgo_empresa = {\n",
        "    0: 3,\n",
        "    'No aplica': 3,\n",
        "    'Alto': 5,\n",
        "    'Medio': 3,\n",
        "    'Bajo': 1\n",
        "}\n",
        "\n",
        "# Aplicando el mapeo con replace\n",
        "df['Riesgo Empresa'] = df['Riesgo Empresa'].replace(mapeo_riesgo_empresa)\n"
      ],
      "metadata": {
        "id": "-dt7CP4vOBRS"
      },
      "execution_count": 27,
      "outputs": []
    },
    {
      "cell_type": "code",
      "source": [
        "#NIVEL ACADEMICO\n",
        "mapping = {\n",
        "    'Bachillerato': 3,\n",
        "    'Universitario': 4,\n",
        "    'Técnico': 2,\n",
        "    'TÃ©cnico':2,\n",
        "    'Tecnológico': 5,\n",
        "    'TecnolÃ³gico':5,\n",
        "    'Primaria': 4,\n",
        "    'Postgrado': 1,\n",
        "    'Doctorado': 1,\n",
        "    'Maestría': 1,\n",
        "    'MaestrÃ­a':1,\n",
        "    'Especializacion': 1,\n",
        "    'Estudiante': 0,\n",
        "    'Ninguno': 5\n",
        "}\n",
        "\n",
        "# Aplica el mapeo a la columna 'NIVEL_ACADEMICO'\n",
        "df['NIVEL_ACADEMICO'] = df['NIVEL_ACADEMICO'].map(mapping)\n"
      ],
      "metadata": {
        "id": "_T2nYnceUsua"
      },
      "execution_count": 28,
      "outputs": []
    },
    {
      "cell_type": "code",
      "source": [
        "# Reemplaza los valores en 'TIPO_CONTRATO' con 'Independiente' cuando 'RELACION_LABORAL' sea 'Independiente'\n",
        "df.loc[df['RELACION_LABORAL'] == 'Independiente', 'TIPO_CONTRATO'] = 'Independiente'\n",
        "\n",
        "# Reemplaza los valores en 'TIPO_CONTRATO' con 'Pensionado' cuando 'RELACION_LABORAL' sea 'Pensionado'\n",
        "df.loc[df['RELACION_LABORAL'] == 'Pensionado', 'TIPO_CONTRATO'] = 'Pensionado'\n"
      ],
      "metadata": {
        "id": "EzBwBDgnyQtt"
      },
      "execution_count": 29,
      "outputs": []
    },
    {
      "cell_type": "code",
      "source": [
        "#TIPO DE CONTRATO\n",
        "# Define un diccionario para mapear los tipos de contrato a los valores deseados\n",
        "mapping = {\n",
        "    'A término Indefinido': 2,\n",
        "    'A tÃ©rmino Indefinido':2,\n",
        "    'Otra': 5,\n",
        "    'A término Fijo': 3,\n",
        "    'A tÃ©rmino Fijo':3,\n",
        "    'Independiente': 3,\n",
        "    'Pensionado': 1,\n",
        "    'Honorarios': 5,\n",
        "    'Otra-': 5,\n",
        "    '0': 3,\n",
        "    \"INDEFINIDO\":2,\n",
        "\"FIJO\":3,\n",
        "\"LABOR CONTRATADA\":5,\n",
        "\"PRESTACION DE SERVICIOS\":5,\n",
        "\"INDEPENDIENTE\":3,\n",
        "\"PENSIONADO\":1,\n",
        "\"TEMPORAL\":3,\n",
        "\"CONTRATISTA\":4\n",
        "}\n",
        "\n",
        "# Aplica el mapeo a la columna 'TIPO_CONTRATO'\n",
        "df['TIPO_CONTRATO'] = df['TIPO_CONTRATO'].map(mapping)\n",
        "\n"
      ],
      "metadata": {
        "id": "fsk6h2eR94EV"
      },
      "execution_count": 30,
      "outputs": []
    },
    {
      "cell_type": "code",
      "source": [
        "#codigo para reemplazar segun la edad y de acuerdo al rango de edad\n",
        "\n",
        "def imputar_edad(edad):\n",
        "    if 18 <= edad <= 24:\n",
        "        return 5\n",
        "    elif 25 <= edad <= 36:\n",
        "        return 4\n",
        "    elif 37 <= edad <= 48:\n",
        "        return 3\n",
        "    elif 49 <= edad <= 60:\n",
        "        return 2\n",
        "    elif edad >= 61:\n",
        "        return 1\n",
        "    else:\n",
        "        # Retorna el valor original si no cae en ningún rango especificado\n",
        "        return edad\n",
        "\n",
        "# Aplicando la función imputar_edad a la columna EDAD\n",
        "df['EDAD'] = df['EDAD'].apply(imputar_edad)\n"
      ],
      "metadata": {
        "id": "i-qsM-Lc1CyT"
      },
      "execution_count": 31,
      "outputs": []
    },
    {
      "cell_type": "code",
      "source": [
        "#PERSONAS A CARGO\n",
        "#Define un diccionario para mapear las descripciones de personas a cargo a los valores deseados\n",
        "mapping = {\n",
        "    'Cero': 1,\n",
        "    'Uno': 2,\n",
        "    'Dos': 2,\n",
        "    'Tres': 3,\n",
        "    'Cuatro': 5,\n",
        "    '0': 3\n",
        "}\n",
        "\n",
        "# Para manejar \"cuatro o más\", necesitamos aplicar una función personalizada, ya que este caso no es directo\n",
        "def map_personas_a_cargo(value):\n",
        "    if value in mapping:\n",
        "        return mapping[value]\n",
        "    else:\n",
        "        # Asume que cualquier valor no mapeado directamente es \"cuatro o más\"\n",
        "        return 5\n",
        "\n",
        "# Aplica la función a la columna 'PERSONAS_A_CARGO'\n",
        "df['PERSONAS_A_CARGO'] = df['PERSONAS_A_CARGO'].apply(map_personas_a_cargo)\n"
      ],
      "metadata": {
        "id": "9q30v_kuBFXT"
      },
      "execution_count": 32,
      "outputs": []
    },
    {
      "cell_type": "code",
      "source": [
        "#Imputamos los valores de la variable plazo solicitado meses\n",
        "\n",
        "def impute_plazo(val):\n",
        "    if 0 <= val <= 24:\n",
        "        return 1\n",
        "    elif 25 <= val <= 36:\n",
        "        return 2\n",
        "    elif 37 <= val <= 48:\n",
        "        return 3\n",
        "    elif 49 <= val <= 60:\n",
        "        return 4\n",
        "    elif val >= 61:\n",
        "        return 5\n",
        "\n",
        "# Aplicando la función de imputación y sobrescribiendo la columna PLAZO_SOLICITADO_MESES\n",
        "df['plazo de credito'] = df['plazo de credito'].apply(impute_plazo)"
      ],
      "metadata": {
        "id": "s90VsnQiIb2U"
      },
      "execution_count": 33,
      "outputs": []
    },
    {
      "cell_type": "markdown",
      "source": [
        "Eliminación de columnas no necesarias\n",
        "\n",
        "1.   Columnas agregadas de manera informativa\n",
        "2.   Columnas despues de usadas para calculos\n",
        "\n",
        "\n"
      ],
      "metadata": {
        "id": "WoA4H8yyWiwS"
      }
    },
    {
      "cell_type": "code",
      "source": [
        "df.columns"
      ],
      "metadata": {
        "colab": {
          "base_uri": "https://localhost:8080/"
        },
        "id": "kaiCHfXzCjV6",
        "outputId": "1af54533-8c25-4f76-c16a-71711123a499"
      },
      "execution_count": 34,
      "outputs": [
        {
          "output_type": "execute_result",
          "data": {
            "text/plain": [
              "Index(['TIPO_DE_IDENTIFICACION', 'IDENTIFICACION', 'NOMBRE_CLIENTE',\n",
              "       'DESCRIPCION', 'FECHA_APERTURA', 'ESTADO', 'SALDO_DISPONIBLE',\n",
              "       'VALOR_CUOTA', 'ULT_TRANSACCION', 'FORMA_PAGO', 'PAGADURIA',\n",
              "       'PAGADURIA_IDENTIFICACION', 'CREDIT_VISION', 'Tipo Riegso',\n",
              "       'EXPERIENCIA', 'INCOME_ESTIMATOR', 'RESULTADO',\n",
              "       'VALOR_CUOTA_ACTUAL_PRIN', 'VALOR_SALDO_ACTUAL_PRIN',\n",
              "       'Solicitudes en Fabrica de Credito',\n",
              "       'Solicitudes negadas ultimos 3 meses', 'Saldos de credito ',\n",
              "       'Cupos Rotativos', 'dias de Mora', 'Reestructuracion', 'Riesgo Empresa',\n",
              "       'Mora Empresa', 'Delegado', 'Colaborador', 'base de julio',\n",
              "       'Base Hipoteca', 'Base Septiembre', 'Gestion Asesor Externo-consumo',\n",
              "       'Gestion Asesor Externo-retanquo', 'Gestion Asesor Externo-hipote',\n",
              "       'GENERO', 'FECHA_VINCU', 'ULTIMA_ACTUALIZACION', 'TIPO_VIVIENDA',\n",
              "       'ESTRATO', 'NIVEL_ACADEMICO', 'ESTADO_CIVIL', 'PERSONAS_A_CARGO',\n",
              "       'TOTAL_INGRESOS', 'TOTAL_ACTIVOS', 'TOTAL_PASIVOS', 'PATRIMONIO',\n",
              "       'NOMBRE_COMPANIA', 'RELACION_LABORAL', 'TIPO_CONTRATO', 'SALARIO',\n",
              "       'CIUDAD_RESIDENCIA', 'EDAD', 'ANTIGUEDAD_UNIMOS(MESES)',\n",
              "       'ANTIGUEDAD_LABORAL_AÑOS', 'plazo de credito', 'CAPACIDAD_DE_PAGO',\n",
              "       'Descuentos de Nomina', 'TOTAL GASTOS', 'CAPACIDAD_DESCUENTOS',\n",
              "       'RAZON GASTOS TOTALES', 'RAZON GASTOS FINANCIEROS',\n",
              "       'RAZON ENDEUDAMIENTO TOTAL'],\n",
              "      dtype='object')"
            ]
          },
          "metadata": {},
          "execution_count": 34
        }
      ]
    },
    {
      "cell_type": "code",
      "source": [
        "#Codigo para quitar las columnas que no van a hacer parte del archivo con las columnas del modelo\n",
        "#se crea una lista con los nombres de las columnas a eliminar\n",
        "\n",
        "columnas_a_eliminar = ['TIPO_DE_IDENTIFICACION', 'NOMBRE_CLIENTE',\n",
        "       'DESCRIPCION', 'FECHA_APERTURA', 'ESTADO', 'SALDO_DISPONIBLE',\n",
        "       'VALOR_CUOTA', 'ULT_TRANSACCION', 'PAGADURIA',\n",
        "       'PAGADURIA_IDENTIFICACION',\n",
        "       'EXPERIENCIA', 'INCOME_ESTIMATOR',\n",
        "       'VALOR_CUOTA_ACTUAL_PRIN', 'VALOR_SALDO_ACTUAL_PRIN',\n",
        "       'Solicitudes en Fabrica de Credito',\n",
        "       'Solicitudes negadas ultimos 3 meses', 'Saldos de credito ',\n",
        "       'Cupos Rotativos', 'dias de Mora', 'Reestructuracion',\n",
        "       'Mora Empresa', 'Delegado', 'Colaborador', 'base de julio',\n",
        "       'Base Hipoteca', 'Base Septiembre', 'Gestion Asesor Externo-consumo',\n",
        "       'Gestion Asesor Externo-retanquo', 'Gestion Asesor Externo-hipote',\n",
        "       'GENERO', 'FECHA_VINCU', 'ULTIMA_ACTUALIZACION', 'ESTRATO', 'ESTADO_CIVIL',\n",
        "       'TOTAL_INGRESOS', 'TOTAL_ACTIVOS', 'TOTAL_PASIVOS', 'PATRIMONIO',\n",
        "       'NOMBRE_COMPANIA', 'RELACION_LABORAL', 'SALARIO',\n",
        "       'CIUDAD_RESIDENCIA','Descuentos de Nomina','TOTAL GASTOS','Tipo Riegso']\n",
        "\n",
        "\n",
        "# Eliminando las columnas especificadas directamente del DataFrame original\n",
        "df.drop(columnas_a_eliminar, axis=1, inplace=True)"
      ],
      "metadata": {
        "id": "1A4t5qyFELKm"
      },
      "execution_count": 36,
      "outputs": []
    },
    {
      "cell_type": "code",
      "source": [
        "df.columns = [col.upper() for col in df.columns]"
      ],
      "metadata": {
        "id": "BAeracVjOo_V"
      },
      "execution_count": 37,
      "outputs": []
    },
    {
      "cell_type": "code",
      "source": [
        "#CAMBIO DE NOMBRE A LAS VARIABLES\n",
        "# Crear un diccionario con los nombres antiguos y los nuevos\n",
        "nuevos_nombres = {\n",
        "    \"IDENTIFICACION\": \"ID\",\n",
        "    \"EDAD\": \"EDAD\",\n",
        "    \"NIVEL_ACADEMICO\": \"NIVEL EDUCATIVO\",\n",
        "    \"TIPO_VIVIENDA\": \"TIPO VIVIENDA\",\n",
        "    \"TIPO_CONTRATO\": \"TIPO CONTRATO\",\n",
        "    \"ANTIGUEDAD_LABORAL_AÑOS\": \"ANTIGUEDAD\",\n",
        "    \"PERSONAS_A_CARGO\": \"PERSONAS A CARGO\",\n",
        "    \"CREDIT_VISION\": \"CLEAR_SCORE\",\n",
        "    \"RESULTADO\": \"RESULTADO_PRESICION\",\n",
        "    \"FORMA_PAGO\": \"TIPO_CREDITO\",\n",
        "    \"PLAZO DE CREDITO\": \"PLAZO_SOLICITADO_MESES\",\n",
        "    \"ANTIGUEDAD_UNIMOS(MESES)\": \"ANTIGUEDAD EN UNIMOS\",\n",
        "    \"CAPACIDAD_DE_PAGO\": \"CAPACIDAD DE PAGO\",\n",
        "    \"CAPACIDAD_DESCUENTOS\": \"CAPACIDAD DE DESCUENTO\",\n",
        "    \"RAZON GASTOS TOTALES\": \"RAZON GASTOS TOTALES\",\n",
        "    \"RAZON GASTOS FINANCIEROS\": \"RAZON GASTOS FINANCIEROS\",\n",
        "    \"RAZON ENDEUDAMIENTO TOTAL\": \"RAZON ENDEUDAMIENTO TOTAL\",\n",
        "    \"RIESGO EMPRESA\": \"RIESGO EMPRESA\"\n",
        "}\n",
        "\n",
        "# Renombrar las columnas en el DataFrame\n",
        "df.rename(columns=nuevos_nombres, inplace=True)\n",
        "\n",
        "\n"
      ],
      "metadata": {
        "id": "UkQr05izxV4L"
      },
      "execution_count": 38,
      "outputs": []
    },
    {
      "cell_type": "code",
      "source": [
        "# Lista de las columnas en el orden deseado\n",
        "orden_columnas = [\n",
        "    \"ID\",\n",
        "    \"EDAD\",\n",
        "    \"NIVEL EDUCATIVO\",\n",
        "    \"TIPO VIVIENDA\",\n",
        "    \"TIPO CONTRATO\",\n",
        "    \"ANTIGUEDAD\",\n",
        "    \"PERSONAS A CARGO\",\n",
        "    \"CLEAR_SCORE\",\n",
        "    \"RESULTADO_PRESICION\",\n",
        "    \"TIPO_CREDITO\",\n",
        "    \"PLAZO_SOLICITADO_MESES\",\n",
        "    \"ANTIGUEDAD EN UNIMOS\",\n",
        "    \"CAPACIDAD DE PAGO\",\n",
        "    \"CAPACIDAD DE DESCUENTO\",\n",
        "    \"RAZON GASTOS TOTALES\",\n",
        "    \"RAZON GASTOS FINANCIEROS\",\n",
        "    \"RAZON ENDEUDAMIENTO TOTAL\",\n",
        "    \"RIESGO EMPRESA\"\n",
        "]\n",
        "\n",
        "# Reordenar las columnas en el DataFrame\n",
        "df = df[orden_columnas]\n"
      ],
      "metadata": {
        "id": "Wr_P0Wnm1kKc"
      },
      "execution_count": 39,
      "outputs": []
    },
    {
      "cell_type": "code",
      "source": [
        "#Cargar los datos del dataframe actual a un archivo de excel para luego descargar el file\n",
        "\n",
        "nombre_del_archivo = 'BD_nuevos_para_el_modelo.xlsx'\n",
        "\n",
        "#Utiliza la función to_excel() para exportar el DataFrame a Excel\n",
        "df.to_excel(nombre_del_archivo, index=False)  # El argumento index=False evita incluir el índice en el archivo"
      ],
      "metadata": {
        "id": "DXIqW1cTEcVs"
      },
      "execution_count": 40,
      "outputs": []
    }
  ]
}